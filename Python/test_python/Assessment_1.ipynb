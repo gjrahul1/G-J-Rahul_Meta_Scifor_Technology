{
  "nbformat": 4,
  "nbformat_minor": 0,
  "metadata": {
    "colab": {
      "provenance": []
    },
    "kernelspec": {
      "name": "python3",
      "display_name": "Python 3"
    },
    "language_info": {
      "name": "python"
    }
  },
  "cells": [
    {
      "cell_type": "markdown",
      "source": [
        "# What are Python Data Types ?"
      ],
      "metadata": {
        "id": "VvdhrFXdT5KC"
      }
    },
    {
      "cell_type": "code",
      "execution_count": 4,
      "metadata": {
        "colab": {
          "base_uri": "https://localhost:8080/"
        },
        "id": "8W9d1UyYTsll",
        "outputId": "f573ee6d-6079-42ee-98f5-eeb4ccd422d4"
      },
      "outputs": [
        {
          "output_type": "stream",
          "name": "stdout",
          "text": [
            "5\n",
            "5.1\n",
            "Python Data Types\n",
            "[1, 2, 3, 4, 5]\n",
            "[1, 'Hello', 2.5, 'World']\n",
            "{1: 'A', 2: 'B', 3: 'C', 4: 'D'}\n",
            "('Hello', 'Everyone', 'At', 'Meta', 'Scipor')\n",
            "{'At', 'Scipor', 'Hello', 'Meta', 'Everyone'}\n"
          ]
        }
      ],
      "source": [
        "a = 5 #Integer\n",
        "print(a)\n",
        "b = 5.1 #Float\n",
        "print(b)\n",
        "c = \"Python Data Types\"\n",
        "print(c)\n",
        "lst = [1,2,3,4,5] #Homogenous List\n",
        "print(lst)\n",
        "lst = [1,'Hello',2.5,'World'] #Heterogenous List\n",
        "print(lst)\n",
        "#Dictionary\n",
        "dct = {1:'A',2:'B',3:'C',4:'D'}\n",
        "print(dct)\n",
        "#Tuples\n",
        "tpl = (\"Hello\",\"Everyone\",\"At\",\"Meta\",\"Scipor\")\n",
        "print(tpl)\n",
        "#Sets\n",
        "#Writing set would be {\"Hello\",\"Everyone\",\"At\",\"Meta\",\"Scipor\"}\n",
        "st = set(tpl)\n",
        "print(st)\n"
      ]
    },
    {
      "cell_type": "markdown",
      "source": [
        "# Explain the difference between list, tuple, and set"
      ],
      "metadata": {
        "id": "pM8rcbxgYbJp"
      }
    },
    {
      "cell_type": "code",
      "source": [
        "# List:\n",
        "# - Ordered: Elements have a specific order, and this order is maintained.\n",
        "# - Mutable: You can change the elements of a list after it's created (add, remove, modify).\n",
        "# - Allows Duplicates: Lists can contain the same element multiple times.\n",
        "\n",
        "my_list = [1, 2, 3, 'apple', 2]\n",
        "print(my_list)  # Output: [1, 2, 3, 'apple', 2]\n",
        "my_list.append(4)  # Add an element\n",
        "print(my_list)  # Output: [1, 2, 3, 'apple', 2, 4]\n",
        "my_list[0] = 'banana'  # Modify an element\n",
        "print(my_list)  # Output: ['banana', 2, 3, 'apple', 2, 4]\n",
        "\n",
        "\n",
        "# Tuple:\n",
        "# - Ordered: Similar to lists, elements have a specific order.\n",
        "# - Immutable: Once a tuple is created, you cannot change its elements (add, remove, modify).\n",
        "# - Allows Duplicates: Tuples can contain the same element multiple times.\n",
        "\n",
        "my_tuple = (1, 2, 3, 'orange', 2)\n",
        "print(my_tuple)  # Output: (1, 2, 3, 'orange', 2)\n",
        "# my_tuple[0] = 'grape'  # This will raise an error because tuples are immutable\n",
        "\n",
        "\n",
        "# Set:\n",
        "# - Unordered: Elements do not have a specific order. The order may change when you modify the set.\n",
        "# - Mutable: You can add and remove elements from a set.\n",
        "# - Unique: Each element in a set must be unique. No duplicates are allowed.\n",
        "\n",
        "my_set = {1, 2, 3, 'grape', 2}\n",
        "print(my_set)  # Output: {1, 2, 3, 'grape'} (Note that the duplicate 2 is removed)\n",
        "my_set.add(4)\n",
        "print(my_set)  # Output: {1, 2, 3, 4, 'grape'}\n",
        "my_set.remove(1)\n",
        "print(my_set)  # Output: {2, 3, 4, 'grape'}"
      ],
      "metadata": {
        "colab": {
          "base_uri": "https://localhost:8080/"
        },
        "id": "qyEq95KbVMmy",
        "outputId": "51a060dd-6289-4e01-fb0b-a967a3b61240"
      },
      "execution_count": 5,
      "outputs": [
        {
          "output_type": "stream",
          "name": "stdout",
          "text": [
            "[1, 2, 3, 'apple', 2]\n",
            "[1, 2, 3, 'apple', 2, 4]\n",
            "['banana', 2, 3, 'apple', 2, 4]\n",
            "(1, 2, 3, 'orange', 2)\n",
            "{3, 1, 2, 'grape'}\n",
            "{1, 2, 3, 'grape', 4}\n",
            "{2, 3, 'grape', 4}\n"
          ]
        }
      ]
    },
    {
      "cell_type": "markdown",
      "source": [
        "#How do you handle exceptions in Python ?"
      ],
      "metadata": {
        "id": "QuXI60wuYjCz"
      }
    },
    {
      "cell_type": "code",
      "source": [
        "height = int(input(\"Enter any number between 2 to 100\"))\n",
        "\n",
        "try:\n",
        "  if height < 2 or height > 100:\n",
        "    raise ValueError\n",
        "  else:\n",
        "     print(height)\n",
        "except ValueError:\n",
        "      print(\"Values out of bound\")\n",
        "finally:\n",
        "  print(\"Execution Successful\")"
      ],
      "metadata": {
        "colab": {
          "base_uri": "https://localhost:8080/"
        },
        "id": "llAS17HAYrun",
        "outputId": "3b0e06ab-cc86-42ac-904e-776aeecc1b26"
      },
      "execution_count": 10,
      "outputs": [
        {
          "output_type": "stream",
          "name": "stdout",
          "text": [
            "Enter any number between 2 to 1001\n",
            "Values out of bound\n",
            "Execution Successful\n"
          ]
        }
      ]
    },
    {
      "cell_type": "markdown",
      "source": [
        "# What are Python decorators?"
      ],
      "metadata": {
        "id": "uZgezwSrbmsa"
      }
    },
    {
      "cell_type": "code",
      "source": [
        "def decorators(func):\n",
        "  def wrapper():\n",
        "    print(\"List passed\")\n",
        "    res = func()\n",
        "    print(res)\n",
        "    result = res[2:]\n",
        "    print(\"List from 3rd element\")\n",
        "    print(result)\n",
        "  return wrapper\n",
        "\n",
        "@decorators\n",
        "def listpassed():\n",
        "  lst = [1,2,3,4,5,6,7,8]\n",
        "  return lst\n",
        "\n",
        "listpassed()"
      ],
      "metadata": {
        "colab": {
          "base_uri": "https://localhost:8080/"
        },
        "id": "szyyslPrbp0G",
        "outputId": "c19c8aa1-e99e-406b-b5ab-07431ac3e3ab"
      },
      "execution_count": 17,
      "outputs": [
        {
          "output_type": "stream",
          "name": "stdout",
          "text": [
            "List passed\n",
            "[1, 2, 3, 4, 5, 6, 7, 8]\n",
            "List from 3rd element\n",
            "[3, 4, 5, 6, 7, 8]\n"
          ]
        }
      ]
    },
    {
      "cell_type": "markdown",
      "source": [
        "##  What is a lambda function?\n",
        "Lambda functions are syntactically restricted to a single expression.\n",
        "\n",
        "They are anonmyous or in simple terms nameless function which are used and discarded during the process of the program."
      ],
      "metadata": {
        "id": "O3sqgBuDgHRS"
      }
    },
    {
      "cell_type": "code",
      "source": [
        "lambda_cube = lambda y:y*y*y\n",
        "\n",
        "print(lambda_cube(25))"
      ],
      "metadata": {
        "colab": {
          "base_uri": "https://localhost:8080/"
        },
        "id": "nKA93umVdqRu",
        "outputId": "e3f65fca-1005-4605-ede3-94e0197f074a"
      },
      "execution_count": 18,
      "outputs": [
        {
          "output_type": "stream",
          "name": "stdout",
          "text": [
            "15625\n"
          ]
        }
      ]
    },
    {
      "cell_type": "markdown",
      "source": [
        "#  How does Python handle multithreading ?"
      ],
      "metadata": {
        "id": "C41pT-44hLIO"
      }
    },
    {
      "cell_type": "code",
      "source": [
        "import threading\n",
        "\n",
        "\n",
        "def print_cube(num):\n",
        "    print(\"Cube: {}\" .format(num * num * num))\n",
        "\n",
        "\n",
        "def print_square(num):\n",
        "    print(\"Square: {}\" .format(num * num))\n",
        "\n",
        "\n",
        "if __name__ ==\"__main__\":\n",
        "    t1 = threading.Thread(target=print_square, args=(10,))\n",
        "    t2 = threading.Thread(target=print_cube, args=(10,))\n",
        "\n",
        "    t1.start()\n",
        "    t2.start()\n",
        "\n",
        "    t1.join()\n",
        "    t2.join()\n",
        "\n",
        "    print(\"Done!\")\n"
      ],
      "metadata": {
        "colab": {
          "base_uri": "https://localhost:8080/"
        },
        "id": "GKP3lt-thRwj",
        "outputId": "cc1ff7e1-e78c-4203-d9fb-babb72beb5c2"
      },
      "execution_count": 19,
      "outputs": [
        {
          "output_type": "stream",
          "name": "stdout",
          "text": [
            "Square: 100\n",
            "Cube: 1000\n",
            "Done!\n"
          ]
        }
      ]
    },
    {
      "cell_type": "markdown",
      "source": [
        "#  How do you work with files in Python?"
      ],
      "metadata": {
        "id": "5WjOSARkhsDO"
      }
    },
    {
      "cell_type": "code",
      "source": [
        "from google.colab import drive\n",
        "drive.mount('/content/drive')\n"
      ],
      "metadata": {
        "colab": {
          "base_uri": "https://localhost:8080/"
        },
        "id": "KT53njMbh0p8",
        "outputId": "f184569c-204a-4bbb-bc40-953d9b912ad4"
      },
      "execution_count": 22,
      "outputs": [
        {
          "output_type": "stream",
          "name": "stdout",
          "text": [
            "Mounted at /content/drive\n"
          ]
        }
      ]
    },
    {
      "cell_type": "code",
      "source": [
        "file_path = '/content/drive/MyDrive/Meta_Scifor/myfile.txt'\n",
        "\n",
        "with open(file_path,'r') as file:\n",
        "  for lines in file:\n",
        "    print(lines)"
      ],
      "metadata": {
        "colab": {
          "base_uri": "https://localhost:8080/"
        },
        "id": "pBAMegDijCzs",
        "outputId": "23675f1e-6cf0-4c6d-dbf2-2a6813fae444"
      },
      "execution_count": 24,
      "outputs": [
        {
          "output_type": "stream",
          "name": "stdout",
          "text": [
            "1. What are Python data types?\n",
            "\n",
            " ○ List the primary data types such as integers, floats, strings, lists, tuples,\n",
            "\n",
            " dictionaries, and sets.\n",
            "\n",
            " 2. Explain the difference between list, tuple, and set.\n",
            "\n",
            " ○ Talk about mutability, ordering, and uniqueness.\n",
            "\n",
            " 3. Howdoyouhandle exceptions in Python?\n",
            "\n",
            " ○ Explain the use of try, except, else, finally, and custom exceptions\n"
          ]
        }
      ]
    },
    {
      "cell_type": "markdown",
      "source": [
        "# OOP Implementation:\n",
        "\n",
        " What is Object-Oriented Programming (OOP)?\n",
        "\n",
        ""
      ],
      "metadata": {
        "id": "W7O8zb8lj_U7"
      }
    },
    {
      "cell_type": "markdown",
      "source": [
        "# **Encapsulation**\n",
        "Encapsulation is the principle of bundling the data (attributes) and methods (functions) that operate on the data into a single unit or class. It restricts direct access to some of the object's components, which can prevent the accidental modification of data."
      ],
      "metadata": {
        "id": "1ogJZAsvkhYL"
      }
    },
    {
      "cell_type": "code",
      "source": [
        "class Person:\n",
        "    def __init__(self, name, age):\n",
        "        self.__name = name  # Private attribute\n",
        "        self.__age = age    # Private attribute\n",
        "\n",
        "    def get_name(self):\n",
        "        return self.__name\n",
        "\n",
        "    def set_name(self, name):\n",
        "        self.__name = name\n",
        "\n",
        "# Create an instance of Person\n",
        "person = Person(\"John\", 30)\n",
        "print(person.get_name())  # Accessing name through a method\n",
        "\n",
        "person.set_name(\"Jane\")\n",
        "print(person.get_name())\n"
      ],
      "metadata": {
        "colab": {
          "base_uri": "https://localhost:8080/"
        },
        "id": "S3Z32-CokmQF",
        "outputId": "69a843ba-35ae-4231-a1a0-783e0c8cb79c"
      },
      "execution_count": 25,
      "outputs": [
        {
          "output_type": "stream",
          "name": "stdout",
          "text": [
            "John\n",
            "Jane\n"
          ]
        }
      ]
    },
    {
      "cell_type": "markdown",
      "source": [
        "# Abstraction\n",
        "Abstraction is the concept of hiding the complex implementation details and showing only the essential features of the object. It helps in reducing programming complexity and effort."
      ],
      "metadata": {
        "id": "GGMPlx08kvbZ"
      }
    },
    {
      "cell_type": "code",
      "source": [
        "from abc import ABC, abstractmethod\n",
        "\n",
        "class Animal(ABC):\n",
        "    @abstractmethod\n",
        "    def make_sound(self):\n",
        "        pass\n",
        "\n",
        "class Dog(Animal):\n",
        "    def make_sound(self):\n",
        "        return \"Bark\"\n",
        "\n",
        "class Cat(Animal):\n",
        "    def make_sound(self):\n",
        "        return \"Meow\"\n",
        "\n",
        "# Create instances of Dog and Cat\n",
        "dog = Dog()\n",
        "cat = Cat()\n",
        "print(dog.make_sound())\n",
        "print(cat.make_sound())\n"
      ],
      "metadata": {
        "colab": {
          "base_uri": "https://localhost:8080/"
        },
        "id": "Qqq-BUmBkvCs",
        "outputId": "8888ede2-edfc-4d9a-b676-91afbb2904a2"
      },
      "execution_count": 26,
      "outputs": [
        {
          "output_type": "stream",
          "name": "stdout",
          "text": [
            "Bark\n",
            "Meow\n"
          ]
        }
      ]
    },
    {
      "cell_type": "markdown",
      "source": [
        "# Polymorphism\n",
        " Polymorphism is the ability of different classes to be treated as instances of the same class through inheritance. It allows methods to be used interchangeably without altering the calling code."
      ],
      "metadata": {
        "id": "IlTtxgpRk6T9"
      }
    },
    {
      "cell_type": "code",
      "source": [
        "class Shape:\n",
        "    def area(self):\n",
        "        pass\n",
        "\n",
        "class Rectangle(Shape):\n",
        "    def __init__(self, width, height):\n",
        "        self.width = width\n",
        "        self.height = height\n",
        "\n",
        "    def area(self):\n",
        "        return self.width * self.height\n",
        "\n",
        "class Circle(Shape):\n",
        "    def __init__(self, radius):\n",
        "        self.radius = radius\n",
        "\n",
        "    def area(self):\n",
        "        return 3.14 * self.radius * self.radius\n",
        "\n",
        "# Create instances of Rectangle and Circle\n",
        "shapes = [Rectangle(3, 4), Circle(5)]\n",
        "\n",
        "for shape in shapes:\n",
        "    print(shape.area())\n"
      ],
      "metadata": {
        "colab": {
          "base_uri": "https://localhost:8080/"
        },
        "id": "atgxqMTSlAHf",
        "outputId": "3be6dc85-60e6-47e2-88ec-e75127a23b8c"
      },
      "execution_count": 27,
      "outputs": [
        {
          "output_type": "stream",
          "name": "stdout",
          "text": [
            "12\n",
            "78.5\n"
          ]
        }
      ]
    },
    {
      "cell_type": "markdown",
      "source": [
        "# Inheritance\n",
        "Inheritance is the mechanism by which one class (child or derived class) inherits the attributes and methods from another class (parent or base class). This allows for code reusability and the creation of a hierarchical relationship between classes."
      ],
      "metadata": {
        "id": "Rz_E0c_uldNb"
      }
    },
    {
      "cell_type": "code",
      "source": [
        "# Define a parent class\n",
        "class Animal:\n",
        "    def __init__(self, name):\n",
        "        self.name = name\n",
        "\n",
        "    def eat(self):\n",
        "        print(f\"{self.name} is eating\")\n",
        "\n",
        "# Define a child class that inherits from the parent class\n",
        "class Dog(Animal):\n",
        "    def bark(self):\n",
        "        print(f\"{self.name} is barking\")\n",
        "\n",
        "# Create an instance of the Dog class\n",
        "my_dog = Dog(\"Buddy\")\n",
        "\n",
        "# Call methods from both the parent and child class\n",
        "my_dog.eat()  # Inherited from Animal class\n",
        "my_dog.bark()  # Defined in Dog class"
      ],
      "metadata": {
        "colab": {
          "base_uri": "https://localhost:8080/"
        },
        "id": "RbjQtoBAlWwr",
        "outputId": "93f62245-4386-4d81-e961-2a4b66bfb761"
      },
      "execution_count": 29,
      "outputs": [
        {
          "output_type": "stream",
          "name": "stdout",
          "text": [
            "Buddy is eating\n",
            "Buddy is barking\n"
          ]
        }
      ]
    },
    {
      "cell_type": "markdown",
      "source": [
        "# What is a class and an object in Python?\n",
        "In Python, a class is essentially a blueprint for creating objects. It defines a set of attributes and methods that the objects created from the class can have. Think of it like a template or a mold.\n",
        "\n",
        "Objects, on the other hand, are instances of classes. They represent specific implementations of the class blueprint. Each object has its own set of attributes and behaviors as defined by the class."
      ],
      "metadata": {
        "id": "94lLrol7l0K8"
      }
    },
    {
      "cell_type": "code",
      "source": [
        "class Dog:\n",
        "    def __init__(self, name, age):\n",
        "        self.name = name\n",
        "        self.age = age\n",
        "\n",
        "    def bark(self):\n",
        "        return \"Woof!\"\n",
        "\n",
        "    def get_age(self):\n",
        "        return self.age\n"
      ],
      "metadata": {
        "id": "Sc75FLqDmCYC"
      },
      "execution_count": 32,
      "outputs": []
    },
    {
      "cell_type": "code",
      "source": [
        "# Creating an instance of the Dog class\n",
        "my_dog = Dog(name=\"Buddy\", age=5)\n",
        "\n",
        "# Accessing attributes and methods of the object\n",
        "print(my_dog.name)  # Output: Buddy\n",
        "print(my_dog.bark())  # Output: Woof!\n",
        "print(my_dog.get_age())  # Output: 5\n"
      ],
      "metadata": {
        "colab": {
          "base_uri": "https://localhost:8080/"
        },
        "id": "Afg3RC28mHAY",
        "outputId": "5dd11a96-ac91-428b-d75a-64d56bf08252"
      },
      "execution_count": 31,
      "outputs": [
        {
          "output_type": "stream",
          "name": "stdout",
          "text": [
            "Buddy\n",
            "Woof!\n",
            "5\n"
          ]
        }
      ]
    },
    {
      "cell_type": "markdown",
      "source": [
        "# How do you create a class in Python ?\n",
        "\n",
        "We can simply use the keyword class to create a class in python.\n",
        "\n"
      ],
      "metadata": {
        "id": "4UfXc6EcmOKb"
      }
    },
    {
      "cell_type": "code",
      "source": [
        "class Solution:\n",
        "  def __init__(self):\n",
        "    print(\"Class Created\")"
      ],
      "metadata": {
        "id": "u5AEyv1Gmb8J"
      },
      "execution_count": 33,
      "outputs": []
    },
    {
      "cell_type": "markdown",
      "source": [
        "# What are instance variables and class variables?\n",
        "Instance variables are variables that are defined within a method, typically the __init__ method, and are specific to an instance of a class.\n",
        "\n",
        "Scope: They are accessible only within the object (instance) they belong to.\n",
        "\n",
        "Lifetime: The lifetime of instance variables is tied to the lifetime of the instance. When the instance is deleted, the instance variables are also deleted.\n",
        "\n",
        "Usage: Instance variables are used to store data that is unique to each instance of a class."
      ],
      "metadata": {
        "id": "v5TLxNN4nbZA"
      }
    },
    {
      "cell_type": "code",
      "source": [
        "class Dog:\n",
        "    def __init__(self, name, age):\n",
        "        self.name = name  # Instance variable\n",
        "        self.age = age    # Instance variable\n",
        "\n",
        "# Create instances of Dog\n",
        "dog1 = Dog(\"Buddy\", 5)\n",
        "dog2 = Dog(\"Lucy\", 3)\n",
        "\n",
        "print(dog1.name)  # Output: Buddy\n",
        "print(dog2.name)  # Output: Lucy\n"
      ],
      "metadata": {
        "colab": {
          "base_uri": "https://localhost:8080/"
        },
        "id": "0hc62AMpmi93",
        "outputId": "a2a40663-f2c7-4fc9-ac05-192f85a9e9e5"
      },
      "execution_count": 34,
      "outputs": [
        {
          "output_type": "stream",
          "name": "stdout",
          "text": [
            "Buddy\n",
            "Lucy\n"
          ]
        }
      ]
    },
    {
      "cell_type": "markdown",
      "source": [
        "# Class Variables\n",
        "Definition: Class variables are variables that are defined within a class but outside of any method. They are shared across all instances of the class.\n",
        "\n",
        "Scope: They are accessible to all instances of the class and also through the class itself.\n",
        "\n",
        "Lifetime: The lifetime of class variables is tied to the lifetime of the class. They exist as long as the class exists.\n",
        "\n",
        "Usage: Class variables are used to store data that is common to all instances of a class."
      ],
      "metadata": {
        "id": "wMYVu7DSn4dd"
      }
    },
    {
      "cell_type": "code",
      "source": [
        "class Dog:\n",
        "    species = \"Canis familiaris\"  # Class variable\n",
        "\n",
        "    def __init__(self, name, age):\n",
        "        self.name = name  # Instance variable\n",
        "        self.age = age    # Instance variable\n",
        "\n",
        "# Create instances of Dog\n",
        "dog1 = Dog(\"Buddy\", 5)\n",
        "dog2 = Dog(\"Lucy\", 3)\n",
        "\n",
        "print(dog1.species)  # Output: Canis familiaris\n",
        "print(dog2.species)  # Output: Canis familiaris\n",
        "print(Dog.species)   # Output: Canis familiaris\n",
        "\n",
        "# Modify class variable\n",
        "Dog.species = \"Canis lupus familiaris\"\n",
        "print(dog1.species)  # Output: Canis lupus familiaris\n",
        "print(dog2.species)  # Output: Canis lupus familiaris\n"
      ],
      "metadata": {
        "colab": {
          "base_uri": "https://localhost:8080/"
        },
        "id": "NQ0jZfNwn-Dk",
        "outputId": "c87144ae-318e-4c6f-f194-5f6d23bf638a"
      },
      "execution_count": 35,
      "outputs": [
        {
          "output_type": "stream",
          "name": "stdout",
          "text": [
            "Canis familiaris\n",
            "Canis familiaris\n",
            "Canis familiaris\n",
            "Canis lupus familiaris\n",
            "Canis lupus familiaris\n"
          ]
        }
      ]
    },
    {
      "cell_type": "markdown",
      "source": [
        "# What is the purpose of the __init__ method?\n",
        "\n",
        "The purpose of init is to initialize the function to a class.\n",
        "Think of __init__ as a special method that gets called automatically whenever you create a new instance of a class. It ensures the new object starts with specific values or settings."
      ],
      "metadata": {
        "id": "TExNdySIm3Bh"
      }
    },
    {
      "cell_type": "markdown",
      "source": [
        "#  What are self and cls?\n",
        "\n",
        "self:\n",
        "\n",
        "In Python, self refers to the instance of the class. It's used in instance methods to access instance variables and methods. It allows each instance of the class to keep track of its own data."
      ],
      "metadata": {
        "id": "u0-RSluFoi_Q"
      }
    },
    {
      "cell_type": "code",
      "source": [
        "class Dog:\n",
        "    def __init__(self, name, age):\n",
        "        self.name = name  # Instance variable\n",
        "        self.age = age\n",
        "\n",
        "    def bark(self):\n",
        "        return f\"{self.name} says Woof!\"\n",
        "\n",
        "my_dog = Dog(name=\"Buddy\", age=5)\n",
        "print(my_dog.bark())  # Outputs: Buddy says Woof!\n"
      ],
      "metadata": {
        "colab": {
          "base_uri": "https://localhost:8080/"
        },
        "id": "Dv8Utq_9nAR2",
        "outputId": "9da0a6f6-2ac7-48cd-ba04-642f609b4f24"
      },
      "execution_count": 36,
      "outputs": [
        {
          "output_type": "stream",
          "name": "stdout",
          "text": [
            "Buddy says Woof!\n"
          ]
        }
      ]
    },
    {
      "cell_type": "markdown",
      "source": [
        "cls:\n",
        "\n",
        "cls refers to the class itself. It's used in class methods that operate on the class and not on the instances. These methods are defined with the @classmethod decorator."
      ],
      "metadata": {
        "id": "xwxx5AAoozFu"
      }
    },
    {
      "cell_type": "code",
      "source": [
        "class Dog:\n",
        "    species = \"Canine\"\n",
        "\n",
        "    @classmethod\n",
        "    def common_behavior(cls):\n",
        "        return f\"All {cls.species} bark.\"\n",
        "\n",
        "print(Dog.common_behavior())  # Outputs: All Canine bark.\n"
      ],
      "metadata": {
        "colab": {
          "base_uri": "https://localhost:8080/"
        },
        "id": "LYdb5m0Nov_f",
        "outputId": "ce2556b8-98e6-4f51-9db2-6e9ab45e16a5"
      },
      "execution_count": 37,
      "outputs": [
        {
          "output_type": "stream",
          "name": "stdout",
          "text": [
            "All Canine bark.\n"
          ]
        }
      ]
    },
    {
      "cell_type": "markdown",
      "source": [
        "# What is inheritance?\n",
        "\n",
        "### Inheritance in Python\n",
        "Inheritance allows a class (called child or subclass) to inherit methods and attributes from another class (called parent or superclass). This promotes code reuse and can make your programs more modular."
      ],
      "metadata": {
        "id": "K4LBlqq3o_pO"
      }
    },
    {
      "cell_type": "code",
      "source": [
        "class Animal:  # Parent class\n",
        "    def speak(self):\n",
        "        return \"Animal sound\"\n",
        "\n",
        "class Dog(Animal):  # Child class inheriting from Animal\n",
        "    def bark(self):\n",
        "        return \"Woof!\"\n",
        "\n",
        "my_dog = Dog()\n",
        "print(my_dog.speak())  # Outputs: Animal sound\n",
        "print(my_dog.bark())   # Outputs: Woof!\n"
      ],
      "metadata": {
        "colab": {
          "base_uri": "https://localhost:8080/"
        },
        "id": "SUfGzyRNo7g4",
        "outputId": "af06ccc2-9c76-4b7c-bc29-3784eb143051"
      },
      "execution_count": 38,
      "outputs": [
        {
          "output_type": "stream",
          "name": "stdout",
          "text": [
            "Animal sound\n",
            "Woof!\n"
          ]
        }
      ]
    },
    {
      "cell_type": "markdown",
      "source": [
        "# Explain method overriding and method overloading."
      ],
      "metadata": {
        "id": "L_6NuFx4pf5T"
      }
    },
    {
      "cell_type": "markdown",
      "source": [
        "###Method Overriding\n",
        "Overriding occurs when a subclass changes or extends the functionality of a method inherited from a parent class. The method in the subclass has the same name, return type, and parameters as the method in the parent class. It's like giving the inherited method a new twist."
      ],
      "metadata": {
        "id": "3xTWfuaPpj9d"
      }
    },
    {
      "cell_type": "code",
      "source": [
        "class Animal:\n",
        "    def speak(self):\n",
        "        return \"Generic animal sound\"\n",
        "\n",
        "class Dog(Animal):\n",
        "    def speak(self):\n",
        "        return \"Woof!\"\n",
        "\n",
        "my_dog = Dog()\n",
        "print(my_dog.speak())  # Outputs: Woof!\n"
      ],
      "metadata": {
        "colab": {
          "base_uri": "https://localhost:8080/"
        },
        "id": "hdWmAuTbpYRi",
        "outputId": "0ae0a6f1-62e3-47e7-ddd1-4fbde44c1c45"
      },
      "execution_count": 39,
      "outputs": [
        {
          "output_type": "stream",
          "name": "stdout",
          "text": [
            "Woof!\n"
          ]
        }
      ]
    },
    {
      "cell_type": "markdown",
      "source": [
        "###Method Overloading\n",
        "Overloading isn't natively supported in Python like in some other languages (e.g., Java).\n",
        "\n"
      ],
      "metadata": {
        "id": "QKf7RduLpyqj"
      }
    },
    {
      "cell_type": "markdown",
      "source": [
        "# What is multiple inheritance? How does Python handle it?\n"
      ],
      "metadata": {
        "id": "oVaDAcyPsFCp"
      }
    },
    {
      "cell_type": "markdown",
      "source": [
        "## Multiple Inheritance\n",
        "Multiple inheritance allows a class to inherit attributes and methods from more than one parent class. This can be useful for combining functionalities from different classes, but it can also introduce complexity, especially when the parent classes have methods with the same name.\n",
        "\n",
        "## How Python Handles Multiple Inheritance\n",
        "Python supports multiple inheritance using a feature called Method Resolution Order (MRO). The MRO determines the order in which base classes are searched when executing a method. It follows the C3 linearization algorithm, also known as C3 superclass linearization.\n"
      ],
      "metadata": {
        "id": "IEtxz_dpr3Po"
      }
    },
    {
      "cell_type": "code",
      "source": [
        "class A:\n",
        "    def speak(self):\n",
        "        return \"A speaks\"\n",
        "\n",
        "class B:\n",
        "    def speak(self):\n",
        "        return \"B speaks\"\n",
        "\n",
        "class C(A, B):  # C inherits from both A and B\n",
        "    pass\n",
        "\n",
        "c = C()\n",
        "print(c.speak())  # Outputs: A speaks\n"
      ],
      "metadata": {
        "colab": {
          "base_uri": "https://localhost:8080/"
        },
        "id": "LdoJZmnSr-nj",
        "outputId": "49c7d818-303a-4af5-a42a-2d4730d05928"
      },
      "execution_count": 40,
      "outputs": [
        {
          "output_type": "stream",
          "name": "stdout",
          "text": [
            "A speaks\n"
          ]
        }
      ]
    },
    {
      "cell_type": "markdown",
      "source": [
        "# What are abstract classes and interfaces in Python ?"
      ],
      "metadata": {
        "id": "f8e86ViXswZ7"
      }
    },
    {
      "cell_type": "markdown",
      "source": [
        "Abstract classes serve as blueprints for other classes. They can contain methods that can be either completely defined or just declared (abstract methods). Abstract classes cannot be instantiated directly; instead, subclasses are derived from them. This is useful for enforcing a common interface across different derived classes."
      ],
      "metadata": {
        "id": "Uyec76ristzp"
      }
    },
    {
      "cell_type": "code",
      "source": [
        "from abc import ABC, abstractmethod\n",
        "\n",
        "class Animal(ABC):\n",
        "    @abstractmethod\n",
        "    def speak(self):\n",
        "        pass\n",
        "\n",
        "class Dog(Animal):\n",
        "    def speak(self):\n",
        "        return \"Woof!\"\n",
        "\n",
        "class Cat(Animal):\n",
        "    def speak(self):\n",
        "        return \"Meow!\"\n",
        "\n",
        "dog = Dog()\n",
        "print(dog.speak())  # Outputs: Woof!\n",
        "\n",
        "cat = Cat()\n",
        "print(cat.speak())  # Outputs: Meow!\n"
      ],
      "metadata": {
        "colab": {
          "base_uri": "https://localhost:8080/"
        },
        "id": "PU3CflLHr_Et",
        "outputId": "0e5e3ca1-1d56-4b2e-9a5e-647e415f1239"
      },
      "execution_count": 41,
      "outputs": [
        {
          "output_type": "stream",
          "name": "stdout",
          "text": [
            "Woof!\n",
            "Meow!\n"
          ]
        }
      ]
    },
    {
      "cell_type": "markdown",
      "source": [
        "#What is polymorphism in Python?\n",
        "\n",
        "Polymorphism allows different classes to be accessed through the same interface, enabling the same method to perform different operations based on the object it is acting upon.\n"
      ],
      "metadata": {
        "id": "as2xAqzFs9-W"
      }
    },
    {
      "cell_type": "code",
      "source": [
        "class Animal:\n",
        "    def speak(self):\n",
        "        pass\n",
        "\n",
        "class Dog(Animal):\n",
        "    def speak(self):\n",
        "        return \"Woof!\"\n",
        "\n",
        "class Cat(Animal):\n",
        "    def speak(self):\n",
        "        return \"Meow!\"\n",
        "\n",
        "def make_animal_speak(animal):\n",
        "    print(animal.speak())\n",
        "\n",
        "dog = Dog()\n",
        "cat = Cat()\n",
        "\n",
        "make_animal_speak(dog)  # Outputs: Woof!\n",
        "make_animal_speak(cat)  # Outputs: Meow!\n"
      ],
      "metadata": {
        "colab": {
          "base_uri": "https://localhost:8080/"
        },
        "id": "3M8Px8zztHSv",
        "outputId": "2998437f-3ed6-4564-e3a3-60258bfad419"
      },
      "execution_count": 42,
      "outputs": [
        {
          "output_type": "stream",
          "name": "stdout",
          "text": [
            "Woof!\n",
            "Meow!\n"
          ]
        }
      ]
    },
    {
      "cell_type": "markdown",
      "source": [
        "#What is encapsulation in OOP?\n",
        "\n",
        "Encapsulation hides the internal details of an object and only exposes the necessary parts. This is achieved using private variables and public methods."
      ],
      "metadata": {
        "id": "7ZPNFQtztK8B"
      }
    },
    {
      "cell_type": "code",
      "source": [
        "class BankAccount:\n",
        "    def __init__(self, balance):\n",
        "        self.__balance = balance  # Private variable\n",
        "\n",
        "    def deposit(self, amount):\n",
        "        self.__balance += amount\n",
        "\n",
        "    def withdraw(self, amount):\n",
        "        if amount <= self.__balance:\n",
        "            self.__balance -= amount\n",
        "        else:\n",
        "            print(\"Insufficient funds\")\n",
        "\n",
        "    def get_balance(self):\n",
        "        return self.__balance\n"
      ],
      "metadata": {
        "id": "ZuwfDk2vtQpB"
      },
      "execution_count": 43,
      "outputs": []
    },
    {
      "cell_type": "markdown",
      "source": [
        "#What are getters and setters in Python?\n",
        "\n",
        "Getters and setters manage the access and modification of private variables."
      ],
      "metadata": {
        "id": "qGnCdWDStVCJ"
      }
    },
    {
      "cell_type": "code",
      "source": [
        "class Person:\n",
        "    def __init__(self, name):\n",
        "        self.__name = name\n",
        "\n",
        "    @property\n",
        "    def name(self):\n",
        "        return self.__name\n",
        "\n",
        "    @name.setter\n",
        "    def name(self, value):\n",
        "        self.__name = value\n",
        "\n",
        "person = Person(\"Alice\")\n",
        "print(person.name)  # Outputs: Alice\n",
        "person.name = \"Bob\"\n",
        "print(person.name)  # Outputs: Bob\n"
      ],
      "metadata": {
        "colab": {
          "base_uri": "https://localhost:8080/"
        },
        "id": "GKr8LQ7jtRHO",
        "outputId": "1352ca60-e86b-408b-8f3e-83c25fca1063"
      },
      "execution_count": 44,
      "outputs": [
        {
          "output_type": "stream",
          "name": "stdout",
          "text": [
            "Alice\n",
            "Bob\n"
          ]
        }
      ]
    },
    {
      "cell_type": "markdown",
      "source": [
        "#How do you implement operator overloading in Python?"
      ],
      "metadata": {
        "id": "FiyCbdcbthm7"
      }
    },
    {
      "cell_type": "code",
      "source": [
        "class Vector:\n",
        "    def __init__(self, x, y):\n",
        "        self.x = x\n",
        "        self.y = y\n",
        "\n",
        "    def __add__(self, other):\n",
        "        return Vector(self.x + other.x, self.y + other.y)\n",
        "\n",
        "    def __repr__(self):\n",
        "        return f\"Vector({self.x}, {self.y})\"\n",
        "\n",
        "v1 = Vector(2, 3)\n",
        "v2 = Vector(1, 4)\n",
        "print(v1 + v2)  # Outputs: Vector(3, 7)\n"
      ],
      "metadata": {
        "colab": {
          "base_uri": "https://localhost:8080/"
        },
        "id": "u7Lx7y3mtc4a",
        "outputId": "3a8128c8-c4f1-4c76-a62b-a6b43434e87e"
      },
      "execution_count": 45,
      "outputs": [
        {
          "output_type": "stream",
          "name": "stdout",
          "text": [
            "Vector(3, 7)\n"
          ]
        }
      ]
    },
    {
      "cell_type": "markdown",
      "source": [
        "#What is a static method and a class method in Python?\n",
        "\n",
        "Instance methods work on an instance of the class, static methods do not depend on any instance or class-specific data, and class methods operate on the class itself.\n"
      ],
      "metadata": {
        "id": "JyFWXSnntus3"
      }
    },
    {
      "cell_type": "code",
      "source": [
        "class MyClass:\n",
        "    def instance_method(self):\n",
        "        return \"Instance method called\", self\n",
        "\n",
        "    @classmethod\n",
        "    def class_method(cls):\n",
        "        return \"Class method called\", cls\n",
        "\n",
        "    @staticmethod\n",
        "    def static_method():\n",
        "        return \"Static method called\"\n",
        "\n",
        "obj = MyClass()\n",
        "print(obj.instance_method())  # Outputs: (\"Instance method called\", <MyClass instance>)\n",
        "print(MyClass.class_method())  # Outputs: (\"Class method called\", <class MyClass>)\n",
        "print(MyClass.static_method())  # Outputs: \"Static method called\"\n"
      ],
      "metadata": {
        "colab": {
          "base_uri": "https://localhost:8080/"
        },
        "id": "ANKmR3G8toZJ",
        "outputId": "e5f0f5e6-a2e5-44e3-f163-12efae47066a"
      },
      "execution_count": 46,
      "outputs": [
        {
          "output_type": "stream",
          "name": "stdout",
          "text": [
            "('Instance method called', <__main__.MyClass object at 0x7f8a820074f0>)\n",
            "('Class method called', <class '__main__.MyClass'>)\n",
            "Static method called\n"
          ]
        }
      ]
    }
  ]
}