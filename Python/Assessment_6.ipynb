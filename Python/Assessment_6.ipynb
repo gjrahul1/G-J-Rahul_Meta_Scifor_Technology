{
  "nbformat": 4,
  "nbformat_minor": 0,
  "metadata": {
    "colab": {
      "provenance": []
    },
    "kernelspec": {
      "name": "python3",
      "display_name": "Python 3"
    },
    "language_info": {
      "name": "python"
    }
  },
  "cells": [
    {
      "cell_type": "markdown",
      "source": [
        "### Write a program of text processing"
      ],
      "metadata": {
        "id": "ya7ERfJJj798"
      }
    },
    {
      "cell_type": "code",
      "execution_count": 1,
      "metadata": {
        "id": "yKrJ7xoUj0k_"
      },
      "outputs": [],
      "source": [
        "#Corpus for text processing\n",
        "corpus = [\n",
        "    \"I can't wait for the new season of my favorite show!\",\n",
        "    \"The COVID-19 pandemic has affected millions of people worldwide.\",\n",
        "    \"U.S. stocks fell on Friday after news of rising inflation.\",\n",
        "    \"<html><body>Welcome to the website!</body></html>\",\n",
        "    \"Python is a great programming language!!! ??\"\n",
        "]"
      ]
    },
    {
      "cell_type": "code",
      "source": [
        "def count_lines(corpus):\n",
        "  return len(corpus)\n",
        "\n",
        "def count_words(corpus):\n",
        "  word_count = 0\n",
        "  for text in corpus:\n",
        "    words = text.split()\n",
        "    word_count += len(words)\n",
        "  return word_count\n",
        "\n",
        "def count_characters(corpus):\n",
        "  char_count = 0\n",
        "  for text in corpus:\n",
        "    char_count += len(text)\n",
        "  return char_count\n",
        "\n",
        "num_lines = count_lines(corpus)\n",
        "num_words = count_words(corpus)\n",
        "num_characters = count_characters(corpus)\n",
        "\n",
        "print(f'Number of lines: {num_lines}')\n",
        "print(f'Number of words: {num_words}')\n",
        "print(f'Number of characters: {num_characters}')"
      ],
      "metadata": {
        "colab": {
          "base_uri": "https://localhost:8080/"
        },
        "id": "sUj73PptkBe1",
        "outputId": "ae426edf-1e2f-4eb9-fc30-ac2e29b2b889"
      },
      "execution_count": 5,
      "outputs": [
        {
          "output_type": "stream",
          "name": "stdout",
          "text": [
            "Number of lines: 5\n",
            "Number of words: 41\n",
            "Number of characters: 267\n"
          ]
        }
      ]
    },
    {
      "cell_type": "markdown",
      "source": [
        "### Write a program to implement NLP based upon spacy\n",
        "\n"
      ],
      "metadata": {
        "id": "YsqnomS3nUWe"
      }
    },
    {
      "cell_type": "code",
      "source": [
        "import spacy"
      ],
      "metadata": {
        "id": "sJ4BXDOukX9I"
      },
      "execution_count": 6,
      "outputs": []
    },
    {
      "cell_type": "code",
      "source": [
        "nlp = spacy.load('en_core_web_sm')"
      ],
      "metadata": {
        "id": "NYw3ALshnfcv"
      },
      "execution_count": 8,
      "outputs": []
    },
    {
      "cell_type": "code",
      "source": [
        "def count_lines(corpus):\n",
        "  return len(corpus)\n",
        "\n",
        "def count_words(corpus):\n",
        "  word_count = 0\n",
        "  for text in corpus:\n",
        "    doc = nlp(text)\n",
        "    word_count += len([token for token in doc if token.is_alpha])\n",
        "  return word_count\n",
        "\n",
        ""
      ],
      "metadata": {
        "id": "6SRKdsa0nldg"
      },
      "execution_count": 9,
      "outputs": []
    },
    {
      "cell_type": "code",
      "source": [
        "num_lines = count_lines(corpus)\n",
        "num_words = count_words(corpus)\n",
        "num_characters = count_characters(corpus)\n",
        "\n",
        "print(f'Number of lines: {num_lines}')\n",
        "print(f'Number of words: {num_words}')\n",
        "print(f'Number of characters: {num_characters}')"
      ],
      "metadata": {
        "colab": {
          "base_uri": "https://localhost:8080/"
        },
        "id": "8wgwzNv3n8fw",
        "outputId": "9970a95e-4057-451c-ef8d-5e52b8c5ef40"
      },
      "execution_count": 11,
      "outputs": [
        {
          "output_type": "stream",
          "name": "stdout",
          "text": [
            "Number of lines: 5\n",
            "Number of words: 37\n",
            "Number of characters: 267\n"
          ]
        }
      ]
    },
    {
      "cell_type": "markdown",
      "source": [
        "### Difference between descriptive and inferential statistics. Write down atleast 10-15 differences"
      ],
      "metadata": {
        "id": "1nAUDz5_oebj"
      }
    },
    {
      "cell_type": "markdown",
      "source": [
        "\n",
        "\n",
        "| Aspect                    | Descriptive Statistics                                | Inferential Statistics                               |\n",
        "|---------------------------|-------------------------------------------------------|------------------------------------------------------|\n",
        "| **Definition**            | Summarizes and describes the features of a dataset.   | Makes predictions or inferences about a population based on a sample of data. |\n",
        "| **Purpose**               | Provides a simple summary of the data.                | Makes generalizations from a sample to a population, allowing for hypothesis testing and predictions. |\n",
        "| **Data Usage**            | Utilizes the entire dataset to describe its characteristics. | Uses a sample of data to infer or predict characteristics of a larger population. |\n",
        "| **Measures**              | Includes mean, median, mode, standard deviation, variance, range, and percentiles. | Includes confidence intervals, hypothesis tests (t-tests, chi-square tests), regression analysis, and ANOVA. |\n",
        "| **Outcome**               | Produces straightforward summaries, such as graphs, charts, and numerical descriptors. | Produces predictions, inferences, and generalizations about a population. |\n",
        "| **Scope**                 | Limited to the available data.                        | Extends beyond the available data to make broader conclusions. |\n",
        "| **Complexity**            | Generally simpler and more straightforward.           | More complex due to the use of probability and statistical theory. |\n",
        "| **Tools**                 | Frequency distributions, central tendency measures, dispersion measures. | Estimation methods, hypothesis testing, regression models, and statistical significance tests. |\n",
        "| **Uncertainty**           | Does not involve uncertainty; only describes known data. | Involves uncertainty because it makes predictions about a population based on a sample. |\n",
        "| **Assumptions**           | No assumptions about the data distribution are necessary. | Often requires assumptions about the data distribution (e.g., normality). |\n",
        "| **Population**            | Describes data from a specific group or sample.       | Makes inferences about the larger population from which the sample was drawn. |\n",
        "| **Generalizability**      | Results are not intended to be generalized beyond the data at hand. | Results are intended to be generalized to a larger population. |\n",
        "| **Statistical Techniques**| Use of descriptive techniques such as charts and summary statistics. | Use of inferential techniques such as hypothesis testing and confidence intervals. |\n",
        "| **Application**           | Used in the initial phase of data analysis to understand the data. | Used in the later phase of data analysis to make decisions or predictions based on data. |\n",
        "| **Example**               | Calculating the average test score of a class.        | Estimating the average test score of all students in a school district based on a sample. |\n"
      ],
      "metadata": {
        "id": "TJ7V4h4loIbA"
      }
    },
    {
      "cell_type": "code",
      "source": [],
      "metadata": {
        "id": "j3WTvHJMn-hu"
      },
      "execution_count": null,
      "outputs": []
    }
  ]
}