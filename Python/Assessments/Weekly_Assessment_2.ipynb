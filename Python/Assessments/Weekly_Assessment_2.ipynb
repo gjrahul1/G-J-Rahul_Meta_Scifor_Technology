{
  "nbformat": 4,
  "nbformat_minor": 0,
  "metadata": {
    "colab": {
      "provenance": []
    },
    "kernelspec": {
      "name": "python3",
      "display_name": "Python 3"
    },
    "language_info": {
      "name": "python"
    }
  },
  "cells": [
    {
      "cell_type": "markdown",
      "source": [
        "## What are decorators in python? Provide a code of same\n",
        "Decorators are powerful tool used to wrap the calling function. It is one way of passing the calling function to the wrapped function without modifying it.\n",
        "\n",
        "First class objects could be:\n",
        "\n",
        "    stored in a variable.\n",
        "\n",
        "    passed a argument\n",
        "\n",
        "\n"
      ],
      "metadata": {
        "id": "A3-ZBm4JI50_"
      }
    },
    {
      "cell_type": "code",
      "execution_count": null,
      "metadata": {
        "colab": {
          "base_uri": "https://localhost:8080/"
        },
        "id": "t2szUNRTIw4x",
        "outputId": "964eab6a-950a-4dd6-e01b-850d73f830bb"
      },
      "outputs": [
        {
          "output_type": "stream",
          "name": "stdout",
          "text": [
            "Function Called\n",
            "i am all lower case\n"
          ]
        }
      ],
      "source": [
        "def callable(func):\n",
        "  print(\"Function Called\")\n",
        "  res = func()\n",
        "  return res.lower()\n",
        "\n",
        "def calling():\n",
        "  passing1 = \"I AM ALL LOWER CASE\"\n",
        "  return passing1\n",
        "\n",
        "result = callable(calling)\n",
        "\n",
        "print(result)\n"
      ]
    },
    {
      "cell_type": "markdown",
      "source": [
        "##What do you understand by method overriding and method overloading? Give the complete implementation\n",
        "\n",
        "Method overiding - overrides the existing method, when overided by the class/sub-class function.\n",
        "\n",
        "Purpose: To modify the existing method.\n",
        "\n",
        "Method overloading - multiple method with same name but different parameters which behaves differently.\n"
      ],
      "metadata": {
        "id": "Dj_HKQrEThC9"
      }
    },
    {
      "cell_type": "code",
      "source": [
        "def purple():\n",
        "  print(\"I am the purple function\")\n",
        "\n",
        "class Solution:\n",
        "  def purple(self, *args):\n",
        "    if not args:\n",
        "     print(\"I am the solution\")\n",
        "    elif len(args)==1:\n",
        "      print(f\"I am the solution with {args[0]}\")\n",
        "    elif len(args)==2:\n",
        "      print(f\"I am the solution with {args[0]} and {args[1]}\")\n",
        "    else:\n",
        "      print(f\"I am of length {len(args)}\")\n",
        "\n",
        "#Object declaration\n",
        "ob = Solution()\n",
        "#Mehod Overiding\n",
        "ob.purple()\n",
        "#Methos Overflowing\n",
        "ob.purple(1)\n",
        "ob.purple(1,2)\n",
        "ob.purple(1,2,3)\n",
        "ob.purple(1,2,3,4,5,6)\n"
      ],
      "metadata": {
        "colab": {
          "base_uri": "https://localhost:8080/"
        },
        "id": "s8_5cp9kTizF",
        "outputId": "8c85a4aa-214a-4958-f4fc-e556c56000e6"
      },
      "execution_count": null,
      "outputs": [
        {
          "output_type": "stream",
          "name": "stdout",
          "text": [
            "I am the solution\n",
            "I am the solution with 1\n",
            "I am the solution with 1 and 2\n",
            "I am of length 3\n",
            "I am of length 6\n"
          ]
        }
      ]
    },
    {
      "cell_type": "markdown",
      "source": [
        "##Code for hybrid inheritance\n"
      ],
      "metadata": {
        "id": "1TISXcihXnXj"
      }
    },
    {
      "cell_type": "code",
      "source": [
        "class Animal:\n",
        "  def speak(self):\n",
        "    print(\"Animal speaks\")\n",
        "\n",
        "class Mammal(Animal):\n",
        "  def give_birth(self):\n",
        "    print(\"Mammal gives birth\")\n",
        "\n",
        "class Bird(Animal):\n",
        "  def lay_eggs(self):\n",
        "    print(\"Bird lays eggs\")\n",
        "\n",
        "class Platypus(Mammal, Bird):\n",
        "  pass\n",
        "\n",
        "platypus = Platypus()\n",
        "platypus.speak() # Method from Animal class\n",
        "platypus.give_birth() # Method from Mammal class\n",
        "platypus.lay_eggs() # Method from Bird class"
      ],
      "metadata": {
        "colab": {
          "base_uri": "https://localhost:8080/"
        },
        "id": "8hssUEfJI5k-",
        "outputId": "5a78489a-200e-49e1-95db-752f37941a51"
      },
      "execution_count": null,
      "outputs": [
        {
          "output_type": "stream",
          "name": "stdout",
          "text": [
            "Animal speaks\n",
            "Mammal gives birth\n",
            "Bird lays eggs\n"
          ]
        }
      ]
    },
    {
      "cell_type": "markdown",
      "source": [
        "### Explain about the time complexity and space complexity of stacks, queues, Linekdin list"
      ],
      "metadata": {
        "id": "JT3UxnvuYgH-"
      }
    },
    {
      "cell_type": "markdown",
      "source": [
        "### Stacks:\n",
        "A stack is a linear data structure that follows the Last-In/First-Out (LIFO) principle, meaning the last element added is the first one to be removed.\n",
        "\n",
        "### List:\n",
        "\n",
        "Time Complexity:\n",
        "Push: O(1),\n",
        "Pop: O(1)\n",
        "\n",
        "\n",
        "Space Complexity:\n",
        "O(n)\n",
        "\n",
        "### collection.deque:\n",
        "\n",
        "\n",
        "Time Complexity:\n",
        "\n",
        "Push: O(1), O(1)\n",
        "\n",
        "Space Complexity: O(n)\n",
        "\n",
        "### queue.LifoQueue:\n",
        "\n",
        "\n",
        "Time Complexity:\n",
        "Push: O(1)\n",
        "pOP: O(1)\n",
        "\n",
        "Space Complexity:\n",
        "O(n)\n",
        "\n",
        "---\n",
        "\n",
        "\n",
        "\n",
        "### Queue:\n",
        "A queue is a linear data structure that follows the First In First Out (FIFO) principle, meaning the first element added to the queue will be the first one to be removed.\n",
        "\n",
        "### collections.deque:\n",
        "\n",
        "Time Complexity: O(1)\n",
        "\n",
        "Space Complexity: O(1)\n",
        "\n",
        "### queue.Queue:\n",
        "Time Complexity: O(1)\n",
        "\n",
        "Space Complexity: O(1)\n",
        "\n",
        "\n",
        "---\n",
        "\n",
        "\n",
        "\n",
        "### LinkedList\n",
        "Time Complexity: O(n)\n",
        "\n",
        "Space Complexity: O(n)\n",
        "\n",
        "Space Complexity: O(n)\n",
        "\n",
        "Includes for single Linked List, double Linked List, Circular Linked List"
      ],
      "metadata": {
        "id": "FN40YxXpYkT0"
      }
    },
    {
      "cell_type": "markdown",
      "source": [
        " ### Explain any 3 widgets in Streamlit\n",
        "\n",
        "When we say widgets, they are usually input widgets.\n",
        "\n",
        "st.button() : Creates a button\n",
        "\n",
        "Eg: st.button(\"Log in\")\n",
        "\n",
        "st.feedback(): Creates a rating or sentiment button group\n",
        "\n",
        "Eg: st.feedback(\"stars\")\n",
        "\n",
        "st.link_button(): creates a button that links to a hyper link.\n",
        "\n",
        "Eg: st.link_button(\"Go to home\",url)"
      ],
      "metadata": {
        "id": "5B4Ex8h3dB6Z"
      }
    },
    {
      "cell_type": "markdown",
      "source": [
        "###How will you run any file in Streamlit\n",
        "\n",
        "python -m streamlit run filename.py\n",
        "\n",
        "![Screenshot 2024-10-25 215206.png](data:image/png;base64,iVBORw0KGgoAAAANSUhEUgAAA3YAAACXCAYAAABZXck3AAAAAXNSR0IArs4c6QAAAARnQU1BAACxjwv8YQUAAAAJcEhZcwAADsMAAA7DAcdvqGQAADICSURBVHhe7d1/jBX1vfDxj1Wxl+6yIrIFq8QV86woWm4WTW96TbcWuY2REAXvhcekIek1e31svH+USGJrXOOtiYTnj2vaUuK9iWniA22xhtCYW0C7N7S5jUBKcZXyRFiDVr0LostueSr1x/P9NefMzJkf3zln9sfsvl/JgZ1z5sx85/udmTOf+f6YCxYsWPCpTJj75eq+q+SNbQ+7aWvWyudl2bI2GX7hdnlj0L2ptK/bK0sWjcnQM3fJqWH3ZmDpVrnljmsj37HLkdr8dvpdeXnz/XYGxS7z9dp7PvOEmc86DsjLidsQXY7Z3ofultmHvyev7RlI/W6SIE+0eL4EypoHAAAAQLVNcGCndD4h12+4WWyoEUgOokR6ZX7fd6Srw00qYy5IMlxwVxddTjioqRmJBlZNz+ME6bHzZAd2wXSn/TCiIeiq5VNa3ihlzQMAAACg0iY+sJtAycFWlM885XBBXSxo1DJrJgEAAAAgx2fc/xhvnVfJbPXf2NAeOx3y4Zkx9xcAAAAAFEdgN1GG35Rz6r+2rpV2OtD5hFyrm3mOHKW2DgAAAEBTCOwmzFZ5Y/PPZbjjZrnlob3114abRQ5/z2tAFQAAAABIMq372AEAAADATECNHQAAAABUHIEdAAAAAFQcgR0AAAAAVByBHQAAAABUXEuB3UXPfVsu+Zf5bmrifeaH35bP/fAGNzWD3PeU/OIXO+SxW930dDFO23XfU79Qy/2F7BiHDLv1sR1q2U/JfW460XQtr6mGfPZz62OyQx0PufvtVDCTy7RWTu614zFJzYZWy5Rjp2Ubnu2S48cXymY3jWlgIo9BoCRNB3Y6qLqk7U358Lun3DsT75Of/F4+Wvz1SQ0uJ8XTr8gJaZPuFdPsV5jtmsHuk6fUj2JLwfeE53MJaUa2Usu0YuW1/1FZd+edcqd67Trh3mtazrZzjvKy5/gN8rtnL3ZTKI5jcGb+XvBbOZGaCuwu+Jd/lL9aPCIfPvFT984k+c998uHzb8pFN39DZv2Te6+goDYn+kq4cxm/c9PC3U1byxNeVtE7PE/Lzw6NSVv3ipS7R+kHkdnerLtOkypvu5rz9IP2xLzu0f3unYnmV17RfWIql9NUNY3zucTzT/1i5UGVY1Od5zmhzPypopbLdHzOvcCMUanzKqazJgK7G+TimzvkowO75KP/dG9Nph/9VP7fcZGL7/p790YTxg7Jk+aAtK9dJ9qkZ1MoMNLNVDb1iBx6sjbPnXf+QOSBogHZrfLYjl+IXVR9fXfe+Yrc+FSxJe3fd0zG2nrknmlW5z+Tt2sssn89KYekRzbRPKqQaZnPpZ1/qim3TGd4/pRlap17ucMPAM0o/IByXVs3++az8qe/S6+tM33v2tyE6Jq9f6sFgeb7S96Qc2vekYt/+XUJGjV8dODHtlnnV1bIJQ9/USSYDrHrlsjyjIzv5NE1WKs7VWC37lGp1+foAGyT9LSdUBcIP7N/q8u/6DzF6Zo6e/2xTvIrj/QP22q5RgedKes1aZddcueD8ftD9rud6kInXkvVuL1uPeZvbSwhfUF+uMn4PPrCanWnee+te9Tyaws7Ibsid6981uXSmLhdjr47rzKylpwau7x9K3Q+N356YtedUlukb5ob1hVNsy3TYfUdFZyHtk0HD4l5X6i8kvYBvzy021efS218bb31NDeWjUnDvhVqm7vl2JMvytxNel12HbV8iqQne98w6+o+puZ/S+5JyB+blsayCkTzsdX9p0A+Z5R7oTTn7D/5XP76nn8yyr0hLannltbKNCIrPUbOucVJL9P8/PEuL+/zmEeas8rdfOZ7fFmN520np0yLHV9Z+Rxocd9w6VVfathXbFrrv4+1tDfsM/50v7dHrv9AHv/rD+V/Hu+Sxe79s7/9v/LX9/5FZPNCOb7msvp0yOY9N8iaxWfk8d9+Vh750mz3bqPgu2ZdX/qzPLd4RJYlrStEN+kMPhc5J799fEjufcZO5aa5LJf3yjfWLZKTO16WuetWyBfkrAzu+LG8e+u3ZMUX1OdnB+X7Px6w83pJPz9zDHpsuw+P/LHry/h9V+sy8/iew3NN73JPk5uH7rcvKU/NvnRNfNvKU7jG7sIlHSLHX3VTcTfIrF+qoO6//0MFfv/bvM4dEBV0/aNc9BU3i9b2RZn9y7+RT56w8/wp3JzyP/fJx2MqOFyiArUYu+7/aqwpzPhOc/bLW8Puz0DbXLnO/dmcW2VFt9rVxo7JPp+95r4b7Y7S1i1p3R6efuWEyDVfa6GmwR2Q+oezdqdb7fAPhJum6XnUgTRcn+fJQyI9m+I1HLaW01wUmPmelENj18jqWjM3n3VZmdvlDlp1NIbWoz/QB4k9ePc/ui60DvVSCTazNPBI8wMiPwgty9bmxrddfUdtm0qAnW/XCWnreaAh/cXLyzaPqu0D+kSh1qNPzkF6bFn8QsIVvvqkoU8oOpAN5rvzlRsj8/jofuBr8v6TOk/a1N87bD7pjga1fdJz32jTNWJ6WS4tJn82mfTUy2qXKkF7UgyWpV/1E2JJ+0+iWD7nlHuhNHvtPx48zj+55e7VX6T1Mg3k74ee61JyyzQjf/zLS/M5j+Wl2a/c848vDzllWmzb8/K5hH1j/z45Zg61eJNP9/t44sXaRZpJu96oa1a31lx6zhXyiAqQ5LlXZfFi9XrujMz50v+QPXqUk4fekd+eVbNc3yYb7Nw1y3REdXxEnrl3yH5PvY6rt3SAFUzrVzTYukzWNKzrSnk2WLgOJFVQNz+0jMd/K/KlR26w6QmYNH9eTj0eXo5Lc8kW3XGLvL9jhwyenaP+/oaskH3y/X1/VGlYJL2Xu5ly6X0j/fzMMag/9zsG8+XljyePc3i+GVzumsnD+LWfy8Onf6aWrxcZP9fdJzfqi/sTr4xLUKcVC+y+skIuVOfevxxJDuwu+Je/kYvlTfnT/6p//ul3/00+HOuQS/4hOnrlX54P1br96FXRp8YLrrSDoHx8dETlxtXRYDBn3fY7l7mpVt0qV3aq/8beV3/tl0df1LukvnhXFyrF9vq6W1eIjev2ed0NUL+w5kDIDARb7fB+65WiN/PEK+Hd62l5MHK36Wtqy1XQFLpjuv/RH5gDoifWZscctLX59ss+8wvuLrg81lWTsV23ruhWn5yQF2snhHr53NhE0WSmOSF9T/9MB4mNaYvUBqalv+nyalMXO7fKY19TZwN1Ag2fDG1Z6Gsxd/JTga+dLZQe7ekHo9O52qRtuH6R1dY2HNoH2mSuyqAi+8aJXaG7am7f7ryyQD6UtP9ks9uVtNy0cs9WxnI8zz8llXtpZeqRniLrSi/Tks7PIVnnBL80+5R7/vE1KTKOnXL2jSA/YxdQ7vcxenwran8xN+bMBVTzTWuPq0Br5UNuwgVzi5fZWri9r51TQcylcns4slMB2GJdk/Z/1GcFxdd1XGbL9bfbtknP3q6uUY4PRYJBHTia9Nw+NxJcHn+uXotnlyMy/wtlD9wyR+aMviwDp0/bqTmjsu/5P5i/9WdzfQO7IudnDzP6GPSQfd3ib0J/lz1Usdyj1342mLvGXIymnOtMpc2YHPpZOM/KVSywW3KZXCQj8slRNx2TVpv3yX+rfz6/0E4Yb8r5H7k/E3z63f9SgV6HXHh7fbTLC25XgV7G9z59S50Z1YkoEgw26b6nNklPm8r4H7gdRP+4mLsH6m9999B0zh/v/htqB9V3ADIPENfhveee5tKy/y3RFZPXrI7W+NQFd1HjdxZcjWbnlZE7EcNvRVNq79a4qubcdYWlb9d1c1V6Eo3J+8HvUQGZaU7itiPqhMSvR5IVL6/9QdVxcGOgYSNjJz8X+PqlJ1vkZD32voTX/ODTRfaNEtJT0v6TppbPaRLLvQnNLMfj/FNOuZdXpvnpKXZuySzTks/P6eeEomkOSSj3rONr8qTlc3n7xv5HX1RzRIPHzP3F1IjoO/46eI/VDno5I4eDQMv5o+6xMf8SE0g9s/cDORsKvrTNy1QAdvYD2RsEVt4a11WzYa5cP0ct9lRjc0obXH5WrnfTmcsp2R+Phva8s03uh4XOz/lm9jGYr/B1S6JWfy+UGV/u8TyMpsf0W46d6+7T1XW+Lfea1NSomMlukM+ofJfFX5fP/fLbkddf1RuTe3pVPjoebVqpg8aPDvzKTZXM3A3UFwP2ZdpRu2Z9dfvl0XX16la1K5s7xGXszK2wO05ztVX6R/xBd0GkD0y7/eEfzuvExFG1i6VQHql9s5i8dUWlbZe9+3KNfK32RVeTNU4Him5HHd321WrtzStaXreaquO6+ImvrlP0jTYT+E7ID1SZ+4aPcvafNPF8Lqvcy9t/ss8/5ZR7eWWan57i68ou04k4P/unuezzxkRKzudyfwt0i896EyV70TZ26Gexi7YkCbW5rXrmfdmrrjfCzTF1M8zje9+XwnGdh1N/TOsn91n5QrjKrgTX3fUt+da3oq9v+LevLKDY+bl5M+MYrA7KPdP+R0U3KKmf62wzzBMvNlej6avEwO5V+UQVrhyv96+LvNbss7N5+uTImyo3XHNM0wxzRD7eO07PzNMdJvUFQfDKq0Y2d4htm+FaE7g87q5B6cNJux3HVv02I3RBpJu86B/OWnvkP8j7ukwj7adDr8LV7Vnriknbruvmqm+pfOzZ5A7aTaUMbJNEnyB0x19d1V7fblvuTStYXraG0meNw6Jjvj/oAmuiSUZxZe8bPkrYf1IE+azvvpVV7uOy/2gJ559yyr28Ms1PTxPr8i3TZs7PXvzSPG7lPlES87nc49305QuaKJnWCGNyLO3OnO5XbS7OTsguva5QU6yyPHT4jIrsXHNM0wxz4mrM6v4sfyw5kvzD89+X738/+vrxgG12Wb4C5+emzZBjsFIo9yyRc51phllCTWmOYoHd0TPykXTIZ5a46ZjGJpct+NFPTd883RzTNMMceyPz8QoXXDlH/Xs2c57JZe9S1go4l+4oqgIXjw6xaR3e2xoaC7u+g8NvJf8Iqx/0de7AtF/1qOZuVsO6GjVuV72fWdJBXS5X9a+C/rKbQmcPUBDi+inp5gfiBh1ovKiNNlGwTQr9a6pqgsF6PD11X9n7hj1xN+6zKZraf1KE8rnW5MOr3LPSPH77T5Kmyz2ivDLNT09z6/Iu00QF97EGPmme2HL3V2zbG/O55OPd9EWxTZRMM8y0Fhd6wCg9wp25+Vq0qVk6XSN39rWxeo2c6Xdnm2OaZpjHRyQprjulB1qZ32Q/t2fel9dCffvCbr9evZeyzkpKPT9zDDa/7S0o+PvetOlW7uamkq5A8G3ab2vkImNphM51phlmQ3PS8hUL7NzokxffFB0IJfDJT34vH7V9UT73w+TPi9IDoly05Kty8ZIO+cve7Bo/079v7IybKpMKsBKCK9uRU5VRgSrVpx/Udw6S7maodcTbDHmMilkT2nHcG6afRPwC6NbHHrB9B4O9Xv1oxp8TZPs61PurmaaPuqlqq22aPNbVoGG7Sr64yOTWFc7/2p3jFjVsVwK9LjNkb9BZeL8dJOKa1ZHmZQ1lapatZ4vtYyr/g+81XHTri6fi7anK2zcMl99pF+2l7D8JEvLZv9yz0lzW/uN5/vEodx+llalHeppaV0OZFjk/5+xjHvLTXFa5l63gticcO2Uf77pvcFv3PXKPuhhL+h3Vd9/NeUnfyCvx5p1+jIGukdsbe3SA7uemR55cszh90BTTN2/x5+ujXBZ07151jbK4KzK6pX68wZfmNDdQy5ThfX7mGGxl232U9fvuZZqXu90Wze+m6X1P6XWFB/fT3LmuZ5OsvmZ8B00JFG6KaUafXJwSuKnA78O/+w/5S0I/O/Mog4I+3fuGChSvkovbsgdbqY2YmRP8NedpeVA/67bWXte+7HNCYiO+5dLtkYPhV8PLu1FeiS/IjVDk13cs2HHqHd51p9MnzVCw8TSHR0F6UH4gD4TSkTCPvgOjq7IT2jYX+n33WVeDxu0ywbE+uEPLCV6lXG+EPP2gbjseKqtNc+XFUqr1G7dLqzcv1evqkWHTnCB0l1o3Mdt1Ql0su3nUqzEPbbOIhn3sxldCIzc9qPaNsfpyzGi9tp18IWXtG05DfqtX7UejpP1Hy8vnIuWeleZy9h/f809+uZsLZfe++Z0PHUe1fC6tTD32w6bWFS/TYufnzH3Mh0eayyl3v/LyKlOn2LYnHDslH++mL1/bNXJNW1LTpPvknh51eRgZJa9Z+hEEN5jHDOjXmvlvy+OL32moHbODqCgZg6Y8tPJVU7OnH08QLO93zxaowXvoHfPogsVr6t+3z74LjYBZRQXOzxyDLWy7j7J+331M03IP2P7GWlrzSTcas3vZ8TkaWxbUljPOg6YECj+g3D6r7utyse5LF3qswWT6zA+/LX/1+d8X7sc3reg7E+4iteXfwakksl26eerqxIe22wc+jjU+rFKbinkzXctrqiGfpx/KdGJMg3yuPzS8MZBrsGGu/O6RK0TKfhA4gGlHB/Q2iPVoIu7Opfr5y8WfW1hcE4OnvCp/OaBr7b7eVC1c6f7p782om+NTW1ch+12H91IHC5gCQtsVPDMl6VmAZrCGFLlN9ibDdC2vqYZ8nn4o04kxw/J5w+2XypyEJpoA0Ap7DRpvojl+mqixs0wt2eIR+fCJ0IPGJ9pXVsglD39R5MCP5cPvjtOImZhCUmrs3N0Q3cH+znX75LGnVsi+B4PP3Xd0Pw1u7wPAjOFdY7d5oRxfc1n04eIAkMK7xs71cdQjdU7UJWjTgZ120XPflguPTl5QZYJLmTpNQjERXKDmpgK6L0atijsI9OyU7XxPUAcAM0peYGc/t6NUEtQB8JUX2NnP7VXoRAZ1WkuBHQAAAABg8pX4gHIAAAAAwGQgsAMAAACAiiOwAwAAAICKI7ADAAAAgIojsAMAAACAiiOwAwAAAICKI7ADAAAAgIojsAMAAACAiiOwAwAAAICKI7ADAAAAgIojsAMAAACAiiOwAwAAAICKI7ADAAAAgIojsAMAAACAiiOwAwAAAICKI7ADAAAAgIojsAMAAACAiiOwAwAAAICKI7ADAAAAgIojsAMAAACAiiOwAwAAAICKI7ADAAAAgIojsAMAAACAiiOwAwAAAICKI7ADAAAAgIojsAMAAACAirtgwYIFn7q/gdZ0/rss3HCzzJYhOb55tXsTM1ptn3BGDsjxbd90EzEzef/h2El04cpfy9XL3iNPAADwQI0dUCmPy7yHjsjClfe66Slu+Jvyzuab1IX5TfLWSfde0yq27QAAABNoAgO7e6W974gsfmiXm47Rd6zVRdvidY+7N1A5tYt47q43JTgGaq9fS3un+2wmmMn7D8cOAABo0QQGds/K6PMH5Jx0JQRvKui7yzVD2vGIew+YQZbuksUbbhY5/KSp3bKvrSJ3pdwIAQAAAEImvI+d7TMhMvzM38rosHtTX9Te0SUfvHCTvDfo3jPNrlbLpW5K5GzkO8l9L+x3ZqmL43f2POve8+TSUHNyVzTIjPcVSkpP1zF5Y9vbcmko3ecKpsV/Oen5c8m6I3JlR1pfpgJ55LZZBxvxeSPlKLG8Se1HpWttN0lnh5scjzS7ckzKd7OOReE+TCXsY2Z988z3zt+ml+9mK9RXyuWLpPc/s2mZ46Ya1bbXOz3pZVGTtc+bz7pl7JlfyawNOg/tZ7V1JuwDqWUcX0/su97b7quEY9lnHi85266Vsq5KHhf1db21+Yi0pW2797rSt6vY+Sc7f6yc46uk/AEAIGzC+9h9vOdX8oHMkc67/t29o34Av6wCKnVBUwvq9I+e+yENai/eOKyugTYckXlL3Twl0j/qQWBZqy0ZvCm0LvVDfpfU+grp11sn1TZsiDWV67hZrn7oq3L+GTffC0Mye9mm4mnOW05O/nx05qxaxuVu5mTn3/a4IBx+ScZGRGZ33ebeCNyr3lMX2id/ZS9UvPpR6YshdaEzsiuWZpuHpaV58KcynJjmx6VNXzydPGInS93H9L6gLs4k2LYnVRq6ZHFfsI97ytj+j/f8rVv2LnX82AvbIN36Fb1Yz0tPdllYfvt82116P9XLn6P+/rVdp9pfpaPbvxlpzv5TbNvzFDmW1QV2cE5IOpZ95snjdeworZ5bqnxcjMyTy3LzOWddpZ0z9bGjgjp9488t5/jmX8ms2u+Z5nN8aSXlDwAAziQMnvKIvGcu/G42P6gXrrxfOjvOyvDzwZ1SF+ipH87wBdvHe7aaC5NLv1zyj17nv8tl6sImWluoDK4OTas0x+7kfviSblaqLmaXRQdy+OCF0F3ZwSPmQnTWFcUHe0hfTn7+fPz2e+5dTd85DvVd7LxCZslZOR+5u5zmWTk3pC94YhfpnbdJW4dK46B/s9kLV35VLtV3o0O1oDbN6uLmtsfHP81Lb1LrV/vZS3r95e9jJtiobVuQhuwLxbpnZfQ36pjQzZRL6mealZ68srB89vk5MnvEBffK7I73QsucI7N8A7sJVeRYDp0TXGB06dJo2fjMU5bWzi1VPC6cjjlyPimfY+lJX1eJ50zzd/zcF92n/I4vq5T8AQDAmZxRMWs/zL+WzmVz1I/b1voFiwsazp35g3sjMD4/ehcu6xbdty8S1PkYflvOuz/rmlhOoozl+OTP8Gl1oTrPXcBdJ7N0c6BFN+kJ9f3LQ03Q8gU1rOGL3uJ5FtTwuVqBmmflvNoPpOOKctN8+FjDhfolS9WF3cgxu5+Nwz4Wr020tUwFmlQNrnZ37NXfi1bbAC9toCEP6enxKIs0Cft85AJ35LT7o2K8juWk/PGZpyytn1sqeVwYafkcTU/quso8Z7p95dI70mowix1f5eQPAADW5AR26kfODKTSMccECOG7qIH4D15d8ONbjosuUz/CHhekuq9HfbRC/Qr3sZh4WfljLz5cjYm+I3/ygAoYwvn2Xj2QzvWIjJ0MN+GyFy7nDv/UTfsILpSCgKX+qvUtKTPNw9+UM5E02+ZmH/wmWlMzUfuYP3VcbHPNu3SttqvBK94ELotHWThTbZ8vy3TdrlyVPS4amaaTBZVzznxE3nM3YHRwZ/efcBNL/+MLAICyTVJgp7j+W413NvMUCUry+fStsB3455hmV0GfiaC/z9RTb1Kkm2ldeMU8+WDwm3Je94FaZqeL1qx8OBjqM2Xufp+VscNpF0lJ/mDvVp8M90sJvULNmMYlzaa5WZEaj3L3saaYGjy7jzXTBC6dX1lUa5/3N123y1fljwvH94acn6LnzNANmGdsM956/zn/cx0AAGWbvMAujQv4GvuppDVxCTEXKsXYvhVdGbUibr3hwV0mk1f+uIsLuU69J6ZviL6g03fqL9Jvj7yt//Vnms66ixzdDDNouuXNp4na+KXZNDcL7zcTvI+Vy+bT7Muuc9NF+ZTFFNvna1rd9la2y9ZunRt6yU0n8Zlnkk2L48IN+OJ7ThjPc6Ye/MYFd7ZP6Tg0x9Ujp5paPx59AgDINvUCO303VA8ksWh1JNiqDbJiOvknBGR61LPw4wp8Bf397oiNWKaWZ5cd/FCHBh0wP7ST1XzLJ39smmcvWy2d4oIwPdhCx81ype7T2NDXJI/tizK76+/lUnUhFG+65cMMUKHWnz4wyDiledkmuXJRfb+xJngfy/W4zEsYCc8OwhBvKuf2x0Vfje6vBfiWxdTZ5wOtbnvz23XJOj1PcrPxgM88k69Kx0WyIJ/Dg5NkK/GcqbZ14crogDW2z3F9cKf846sYu3wt6wYkAACT8By7Oj3ymBsSOukHuuFiofH5PkGzKmtI3tr8U5mlltk2VOD5To59lpOb0HRTmlq6XFp13wlDr8s+V0kPn63XZdPS+nP1vJeTkz9B3uhR14LvBNsYGcnPl74ANs/byiuHqPD6g+2IX0QH6Rm3NCc8G8woYx9zy2gqfWG1/A1rTI8V3x9D+eydnuyyyN3nD99m0mtHK3TzBs/hC6Xhgyvy9w3//UfL2HYvvsdyLD2xfchnHh8+227naf3cUlP14yKebt915WxXsE3h/Snp/NNYZknHac7xVSR/Ms69AACETWJgB4wzd0GU9IB1IE1yIBXlM8+UxXEBAMC0NAWbYgLlCB7LwMUrUMdxAQDA9ERgh+lp6S7TXOqDF2i6BNRwXAAAMG0R2GFa0U3kzHOjyujfA0wTHBcAAEx/9LEDAAAAgIqjxg4AAAAAKo7ADgAAAAAqjsAOAAAAACqOwA4AAAAAKo7ADgAAAAAqjsAOAAAAACqOwA4AAAAAKo7ADgAAAAAqjsAOAAAAACqOwA4AAAAAKo7ADgAAAAAqjsAOAAAAACqOwA4AAAAAKo7ADgAAAAAqjsAOAAAAACqOwA4AAAAAKo7ADgAAAAAqjsAOAAAAACqOwA4AAAAAKo7ADgAAAAAqjsAOAAAAACqOwA4AAAAAKo7ADgAAAAAqjsAOAAAAACqOwA4AAAAAKo7ADgAAAAAqjsCu8wm5/qG9ckvw6nvCfTD9rd82IIcO7ZR+N11Z67fJwKFDsjNrQ+LzuOlDwWtgm6x3H00Kj/RMm/ICAABA6Qjshh+W1zbfLi+r19GT7j3E9MtOFWwMbMsKfXzmGR/re7ulffSgPJcR8TTMs71Pent6pEe9dg+59ybTVEuPMXllCgAAgGImIbC7X67WNWPr7nfT04HdputX9rrpuvZ19VrAWSufr9cM1l7Py/xO87EzHfNnPPXLmuXtMnpsQLa7dxr5zINxE6+NjAeL/Tsjn9Vf8dpJG2jWPx+QxJiztr6UzwEAAKYhauwm3OumdtC+vidDI23StSEe3MFb/1LpklE5NpARsvnMg/Ghg7aNy+X0blsbaV67h6R9+cZYTeCoHNwSmse81tYDOxOsrZKuod21z3cPtcvyjeHgbb1sG1ABXZ/IwMFR9x4AAMDMMIUDO1dzlVqz5SzdGppHveI1XfE+dGnLmRQDcuo3r6v/22T+ssbavnwuj1ruFxitCQkuuG2fLv2euqBW0/pivF5bYufzmae2LNNvLHldUW6e3H5v6kK+V611aED6UmM2n3myeNYSxWud4h3+GmqtWqlNystDnzSnz+NbpnXp5dW/VC0h3ky2/znRcVf7vG73Rr7+NctNU9ota+sL6l+7RS1HBXdr7Hv9OzdK97Et0tPbJ8fMOwAAADPH1AzsTLB2t8w+/L1a7dbhwyJdG/bK1UvdPIpp5njHtTL8QlADpl6DN4XmUYHPXVLrQ6dfR09OzRqyc28PuL8KWHqTmM3oWNLC9nTJKnUBL0GNiqlN6TMX+dv7el3tyG7R3b5GD6qLZldbol+9KlLymaemfblsbFjXxsZBT0wNm9LeLb0NAUnI+l7pblcx22B8ASE+86QxwdoquTy0TVsOiizfGB2opX+nCmpWdclQuFZqcGloHhX49IlsCz5Tr8baJl/p5WV4pVkHYtHar56eAZnXZwOzQmWq5ZVX+zyJhnDdMk+Vyeh7vuFXv5j4MN6Utn+NLFfLka6lag41uTYhbQAAADPEFAzsemX+l68VOflzeW1PPdg5v+dfZWhEpPPLrnaq8wm5apGYoO6NQfuWMXh/aHqrvLHtYfe3NfrSARlruoasbCrwVIGpbp4Z2QZfg0dkWP8/clROmT+aowOSWkVI/6C6mG+X7syIqnnRddmam66ltYjDMmlQRo9JVuvJpgZN8RbU9O2OBAvbVfBj0tzraqfWbxM7W2i7tP61oel+WdvbFwlK+p87KKNN5nN6efmmeaFcrv6LBruNafSWUV79a3VwqIPRIIh1QaUqk22RIEwHuvVawUj/Opfe0+/U5ze1ijq+NSPNXC4Li2cjAADAtDL1ArvOlTK/Q2TszFH3RmBARobGRDrmmqlZy5ao8KyJgGj4TTnn/pwc14aahd4tnSqAfXlzswOlqMBV10TGgtdihqSZyqzmxNe1Xd45rf67fKENOGpUkKFrhzIDjXEeNMXV9DXWKm2XgWOmHaGphTKBYzN5uP0d0ZteXMa6PNMcrLtrVc4jIrxllZf9zNZQ6oDN1RSG51VBcLhGsKdHN7EMB4Nhth/dxnkDar5QHzwAAIAZbsr2sUtvmrjANDu85LI2kZH33XvpGkeiVMGU+2xyBIOn6IFT1OQiFchOsWahlWCa/w3JQFbTO595coRriaJsLVG3bVOY26er3m8teNn+a+MhL8022NLBkw3ubHqaaRbqw/a/W9U1JLt10LbloIx2rcpZ33bp25ZUo6mX5frRRapHAQAAMIUHT0nzrml2+OGZeu1dGh3ULVvWFu2Dt/nntvnipBuQU8/bZqFdt/Fog2KCJoeDGTU2PvO04rTo+OnYe6GasBQ6qNu4vN00oazXStn+axPLptlSwVOvS4sOtkxTyLKDO127pgNYHdS52jXzvD697Wp9fRmD47haRTPASq2G0fYtDDczXb/QNNIMbRcAAMDMNPUCu+E9ckr3pVsaD3Z6paOrTeTkETN1/u131b/XRgZTiXLzjxxorv9aE9ouW+L+CvTKZzvUfyNv2sm44YflTf1Q9KZr7coaFTPPMbHxS1b44jNPXMqgGKZm5lD6qJjjPWiKtn1AdOvFhv5/KkW9dsEmUNlu2pJ2ScNsNW7+pvr5FeSZ5gY62HLBXbT4fMs0rbzsICmNNZp2uZkBsRuQxZZfvwzaUVxieZizXQAAADPIFKyxc48AWHR3JGibtfKfpatjTIZe2mrfGPyJHUzljtgIl0u3uu8NyJ91U8fwiJHm0Qfj0RRzq7x9eKwhQGtIc4JgMJemau1KGRXTh+sL19Wb2Xwuf56o/p22NqehqWTOKIvB0PdZgZLPPNm2S9+Aiia6VkX6oa3f1ifL20flYLDgYACYVbHarv6d7nsuX8LbEjyTzU2WxzfNOxseWWD7Co5KtHueZ5mmlpcLyNqXi3sigRWMZpkWkOn8WaWWOLS7NkiMGWxGLacvlBD9eIPl7UOym2aZAAAAcsGCBQs+dX9PEF3LlBJc6YFEdrggSD/ywIwYGdB90xqDH/3IgyWL3IQWXoYeYbPvOyq4cpNqGUc3H5F57lEKetTNoLlmkjE3j6/GZUXTbD9/t2E77DaoAPCZu+TUsGf+GG7ekQNNDaBimwierjeTM+yohXq4/OjQ8bpZnb6QdpOKHgbfd56gOWKECry2pAy4EYyc2Ph5WvrC8udJTI8T2S79+AAdZNSEmhWG6EceRGfbHeoHFs8XvYxBWRpKo096vMvLI82N60veLr9yzyqvhLxRwstI2vaGUUY1HfBtVAG7m4ynOSsP0/c1AACA6WESAjvMRMlBSRNM0KK7WmUsx2ceAAAAYBqp4OApmLnWT4FBUwAAAICphxo7TIjSauwAAAAANKDGDgAAAAAqjho7AAAAAKg4auwAAAAAoOII7AAAAACg4gjsAAAAAKDiCOwAAAAAoOII7MqydKvc8tDzMr/TTc8g+lEGhw7trP5jDNZvk4FDh2Rn1ob4zAMAAABMsIoHdvfL1Q/tletX9rppTG39slMFRQPb1rvpJD7zjI/1vd3SPnpQnssI2nzmAQAAACbaBAd2NhC7Rb2uXurectrXqff7nnBTM1V6oBrOn1krnzd5GH3FawtdXq+7300jW7+sWd4uo8cGZLt7p1HGPK4m79ChAUmMSWufu9fANonPZms+s+fxlpcewwbR9XXGal3jaVavZgJuv+2KpyUh3R556C0rf/p31tcReeXkT7Ppyctn3/T45KGWte0AAKCyJqfGbmRMZn95pgdxrXpdXt58u3t9T4ZG2qRrw8xsClqK/qXSJaNybCA9rEueZ71sG1AXyX0iAwdH3Xsx+sJ843I5vbtHenrsa/fp5bIxdGGug5+N3cdki/u8p2e3DLWreQoHCx7pUWywtUoklKaenrX1QCEhzT27h6R9+cZCwZ3XdplAY5V0De2urWv3ULss3xgKPDzy0I9f/ogq54Nb6uuyr+z8aSo93vmckx6fPPTedgAAUEWTFNgdlVOyJCcI6ZX5fck1UvUaq7tFv9W27Duh+WyNV3YNYLxmrF6TaF+xACnUf84stzbfVjdDsno6s+dr3YCc+s3r6v82mb+smWapbvtbrjGN1hgEF6b1Ght14amm9UVrvVbBzuczT21ZJihIXleUmyc3OFIXvL1qrUMD0pca1yXP079zo3Qf2yI9vX1yzL0XpdKwSoWDB7fI2tAVf/9zB9Wlepf0unRv7+s1y6gvul+e0xff7d3Sm534iPz0KCoI6FveLkMqmAinKax/qdrWeJPT/ufEJGlet3sjn8929a9Zbpq3bgklpn/tFrUuFZis0e/55aEPr/zJVTQ96fthWfmcn4dqupRtBwAAU9Uk9bF7U0aGRLpuS2smqAON70jXyM9rtVKHD6v5XY3U+T13ufd/LsNq7rHD36vNp1+v7RmQD8+MiXTMtYtLce7tARe03S2zQ8uw64o3F9U1YntVOBqkSdeSXZsaDOmgbtmyNpe2iWsOabapqKU3mQBZOvKC7SxdsipcA2RqHfpMbYG5uDe1CLtFFbu5IA5qFfSrV0VKPvPU6BqfhnVtbBzQxNSwKXnB0fpe6W5XMdtgfAEhKfP0r42lLW79Qrlc/Xf6ndg82wfkWMGLdx+56VGCICC3n2D7PImmrlvmqTwYfa/MsKBfTGwTb97av0ZU7Kl2K3UQlpiHPvmTq2h68vbDlvM5Pw91UZey7QAAYMqatMFTzu/ZI8OLbnJTUbNWrlSBxuvy8o56Tdf5Pf9qmxumBoNR599+1/2ludq/oL9Z51UyW8bkjUH1/pevFTn5cxMMBuy61Gyx5qImSKulaUAFpynBowoWg6AuvNzxowLhO9R2qDx7Y9C+U8jgERMgm5pU80dzIjVA/YMqQGuX7iLVTQVE12VrOLqWxiIVkwZl9JhktbAc10FTtr8jp9V/ly9MyYfLF6bWJnbrq3v17Xj80Jr1stBGJdK9s17jGa/17F+rA2wdrAdN+XSt0yrpUnmwrcXgILJdCUGSqZXVcbsK2FUGtZSHzdPNGMP5E2piWTQ9Gfuhfz5npMcjD9OSCgAApo9JC+xEtsrbhxckDBTSKx1dbSrYOuKmAwPyZxVsScdVdjLP8PsqdFvgaqCWyOc61H9BINk5V9Qa1P8rZb56f+zMUfN2XXLQFq8NszWHsUBz2Va5RQVZ4x/UXeuaeerX3dKpgtPmawa3yhu6FnLbw266GUOSVeFVrvi6tss79ko7doHfL2t1jV6kKWBci4Om5OqXQXVtHdReBtZv67O1KWn6d8oqXc0zNFi/gC+FrQ2SrlWydLBeI9rYr8vmne2npQMJ138rMy89ZG6X7QO2cd6ASlO9/9i29U3mYbP619bzxbx0k8Zo8FUsPVn7oUc+56YnLDkPAQDA9DeJgZ0KjA6rgGrZP7ipQBCE3R0KXOxrySI7h5fhN+WcCt8+pwM73dTw5AEZGgkCPa1eo5fefDE8v4826Vqma86abBJZSDB4im4SqiYXqSC16WaUM5hpJjckA1m1UD7zZNBN4OoX7vbVJwOmllHXnDUsVQ+ooaOf0WifqVKp4CGyaBU86Mqd9u5eFxzbfmGruoZktw4mthyUURUMtjSSYuZ26fW5PmAJ21w4D0u1Xfq26f5z9Rro8tLTTD43psfKzkMAADC9TWpgJ8MPy5snr431ZTsqf9KBiqmBsn3eIq+CtUqzr+iVWVcskOHBh+XPI3ZwET0tI++7ObK8W7Bp4pgMPXO7HD0p0nlH4yMdxseAnHr+gFqzfzNVBIIBUbJqxXzmyacDgXCtS2+fJPej0qMb2iot2d1q7ViiY/KeDj4ybDe1PnoQGx1suFqf7X3Sa/o/qmCmr+hInUradrlmjV2rbJ/JcB+w9bbNaK0pqncejgeXznD/udbT00I+h9NTIA8BAMD0NbmBnTI6+Lp0Lg0HJEWaXNogsO2yJW46zAWIskQ61PXkn1SAptfV1rVSLtFvj7ypAss9ckrNE12/ltYc1M/oDluL1nlHc48faNyeXvmsrsXUaU5iAmT1f9O1dmWNipnHBhXZg134zBOXMniEej9zVMwWBk1pWVItoA5+Ni5Xl/ShC/0kZmh7XUtUdKh/La3Zar3vXa255uh7sdETXVAYH+wjLz2Z22WbNTaMDKnS02szPn0b02pSW8qfFG4AlMz9ILVmN20/LJjPYZH0tJCHAABg2pj0wE4GfyJDHSvlKh24OKMvHZCxjps9Hq7tgsDEgMZ+1rbsbnUB5AYF0YOEqOUu0QObmH517jEBi+6O1K7NWvnP0tUxJkMvNfuYArXcbXrETj2SZpFl6H6HYw3b45Mek2fN1tqVMiqmDxdUdPVmNjPLnyeqf6et9Wi4oHYXv2mjEfqMDuk9gmQB/XrQklWXy8EtoSDHN6hTzEAu5q8uiY8X48MMy9++XPpCGWz7h43KQbOhLlBQ87iR8q1glMVYoJCZHo/tSkqPHpp/ebv6TkqTwsQ8dFrNnwZ6G3RtY7z5akhWetL3w2L5XJOQnmbyEAAATC8XLFiw4FP39wTQNUNuoI/QiJfBowFk5ECoqaWb100Fhl+4PTbyox7x8jsq8HGTSjBwSfiRA8FAJvo5dLqvXmQ5+pEHZlTJgO6/FgqQ3OeN6w4x8yyQoWfuqjff7HxCrt9wswq3dBPN0Ps5avlRE02P/fzdaBoVu23BupLzz4jlfy2vI/nvT4/At3H56diFu66lWCWXH9wSaRqm5pZtA/qC000q+tEGvvPYdYU+0HSfrcRmizYNeoTBxs/T0heWP09iegJuvWpjovPowTFiF9s6MDAtFZPE058RLPmkxyyntoxA47KS0tRYVkpGery3Kyc9DduVkIc1LeZPQ3kp8Wf+FUqPSkH6fpifz0lpTnwGYdE8DEtJGwAAqI4JDuyA1tiL03gQ2QQzkIfukpSxHJ95AAAAgClg8ptiAhPOZ0AUn3kAAACAqYEaO1RKaTV2AAAAwDRCjR0AAAAAVBw1dgAAAABQcdTYAQAAAEDFEdgBAAAAQMUR2AEAAABAxRHYAQAAAEDFEdgBAAAAQMUR2AEAAABAxRHYAQAAAEDFEdgBAAAAQMUR2AEAAABAxRHYAQAAAEDFEdgBAAAAQMUR2AEAAABApYn8fxBG+hRjyLg0AAAAAElFTkSuQmCC)"
      ],
      "metadata": {
        "id": "J_g4tBDke1qJ"
      }
    },
    {
      "cell_type": "markdown",
      "source": [
        "### Plot graph such as bar chart, pie chart"
      ],
      "metadata": {
        "id": "9S6dqIa5fYST"
      }
    },
    {
      "cell_type": "code",
      "source": [
        "pip install streamlit\n"
      ],
      "metadata": {
        "colab": {
          "base_uri": "https://localhost:8080/"
        },
        "id": "rPD3Pb1YfgdA",
        "outputId": "325284aa-4d9e-4454-dc6e-06f44d9271cc"
      },
      "execution_count": 14,
      "outputs": [
        {
          "output_type": "stream",
          "name": "stdout",
          "text": [
            "Collecting streamlit\n",
            "  Downloading streamlit-1.39.0-py2.py3-none-any.whl.metadata (8.5 kB)\n",
            "Requirement already satisfied: altair<6,>=4.0 in /usr/local/lib/python3.10/dist-packages (from streamlit) (4.2.2)\n",
            "Requirement already satisfied: blinker<2,>=1.0.0 in /usr/lib/python3/dist-packages (from streamlit) (1.4)\n",
            "Requirement already satisfied: cachetools<6,>=4.0 in /usr/local/lib/python3.10/dist-packages (from streamlit) (5.5.0)\n",
            "Requirement already satisfied: click<9,>=7.0 in /usr/local/lib/python3.10/dist-packages (from streamlit) (8.1.7)\n",
            "Requirement already satisfied: numpy<3,>=1.20 in /usr/local/lib/python3.10/dist-packages (from streamlit) (1.26.4)\n",
            "Requirement already satisfied: packaging<25,>=20 in /usr/local/lib/python3.10/dist-packages (from streamlit) (24.1)\n",
            "Requirement already satisfied: pandas<3,>=1.4.0 in /usr/local/lib/python3.10/dist-packages (from streamlit) (2.2.2)\n",
            "Requirement already satisfied: pillow<11,>=7.1.0 in /usr/local/lib/python3.10/dist-packages (from streamlit) (10.4.0)\n",
            "Requirement already satisfied: protobuf<6,>=3.20 in /usr/local/lib/python3.10/dist-packages (from streamlit) (3.20.3)\n",
            "Requirement already satisfied: pyarrow>=7.0 in /usr/local/lib/python3.10/dist-packages (from streamlit) (16.1.0)\n",
            "Requirement already satisfied: requests<3,>=2.27 in /usr/local/lib/python3.10/dist-packages (from streamlit) (2.32.3)\n",
            "Requirement already satisfied: rich<14,>=10.14.0 in /usr/local/lib/python3.10/dist-packages (from streamlit) (13.9.3)\n",
            "Requirement already satisfied: tenacity<10,>=8.1.0 in /usr/local/lib/python3.10/dist-packages (from streamlit) (9.0.0)\n",
            "Requirement already satisfied: toml<2,>=0.10.1 in /usr/local/lib/python3.10/dist-packages (from streamlit) (0.10.2)\n",
            "Requirement already satisfied: typing-extensions<5,>=4.3.0 in /usr/local/lib/python3.10/dist-packages (from streamlit) (4.12.2)\n",
            "Requirement already satisfied: gitpython!=3.1.19,<4,>=3.0.7 in /usr/local/lib/python3.10/dist-packages (from streamlit) (3.1.43)\n",
            "Collecting pydeck<1,>=0.8.0b4 (from streamlit)\n",
            "  Downloading pydeck-0.9.1-py2.py3-none-any.whl.metadata (4.1 kB)\n",
            "Requirement already satisfied: tornado<7,>=6.0.3 in /usr/local/lib/python3.10/dist-packages (from streamlit) (6.3.3)\n",
            "Collecting watchdog<6,>=2.1.5 (from streamlit)\n",
            "  Downloading watchdog-5.0.3-py3-none-manylinux2014_x86_64.whl.metadata (41 kB)\n",
            "\u001b[2K     \u001b[90m━━━━━━━━━━━━━━━━━━━━━━━━━━━━━━━━━━━━━━━━\u001b[0m \u001b[32m41.9/41.9 kB\u001b[0m \u001b[31m1.5 MB/s\u001b[0m eta \u001b[36m0:00:00\u001b[0m\n",
            "\u001b[?25hRequirement already satisfied: entrypoints in /usr/local/lib/python3.10/dist-packages (from altair<6,>=4.0->streamlit) (0.4)\n",
            "Requirement already satisfied: jinja2 in /usr/local/lib/python3.10/dist-packages (from altair<6,>=4.0->streamlit) (3.1.4)\n",
            "Requirement already satisfied: jsonschema>=3.0 in /usr/local/lib/python3.10/dist-packages (from altair<6,>=4.0->streamlit) (4.23.0)\n",
            "Requirement already satisfied: toolz in /usr/local/lib/python3.10/dist-packages (from altair<6,>=4.0->streamlit) (0.12.1)\n",
            "Requirement already satisfied: gitdb<5,>=4.0.1 in /usr/local/lib/python3.10/dist-packages (from gitpython!=3.1.19,<4,>=3.0.7->streamlit) (4.0.11)\n",
            "Requirement already satisfied: python-dateutil>=2.8.2 in /usr/local/lib/python3.10/dist-packages (from pandas<3,>=1.4.0->streamlit) (2.8.2)\n",
            "Requirement already satisfied: pytz>=2020.1 in /usr/local/lib/python3.10/dist-packages (from pandas<3,>=1.4.0->streamlit) (2024.2)\n",
            "Requirement already satisfied: tzdata>=2022.7 in /usr/local/lib/python3.10/dist-packages (from pandas<3,>=1.4.0->streamlit) (2024.2)\n",
            "Requirement already satisfied: charset-normalizer<4,>=2 in /usr/local/lib/python3.10/dist-packages (from requests<3,>=2.27->streamlit) (3.4.0)\n",
            "Requirement already satisfied: idna<4,>=2.5 in /usr/local/lib/python3.10/dist-packages (from requests<3,>=2.27->streamlit) (3.10)\n",
            "Requirement already satisfied: urllib3<3,>=1.21.1 in /usr/local/lib/python3.10/dist-packages (from requests<3,>=2.27->streamlit) (2.2.3)\n",
            "Requirement already satisfied: certifi>=2017.4.17 in /usr/local/lib/python3.10/dist-packages (from requests<3,>=2.27->streamlit) (2024.8.30)\n",
            "Requirement already satisfied: markdown-it-py>=2.2.0 in /usr/local/lib/python3.10/dist-packages (from rich<14,>=10.14.0->streamlit) (3.0.0)\n",
            "Requirement already satisfied: pygments<3.0.0,>=2.13.0 in /usr/local/lib/python3.10/dist-packages (from rich<14,>=10.14.0->streamlit) (2.18.0)\n",
            "Requirement already satisfied: smmap<6,>=3.0.1 in /usr/local/lib/python3.10/dist-packages (from gitdb<5,>=4.0.1->gitpython!=3.1.19,<4,>=3.0.7->streamlit) (5.0.1)\n",
            "Requirement already satisfied: MarkupSafe>=2.0 in /usr/local/lib/python3.10/dist-packages (from jinja2->altair<6,>=4.0->streamlit) (3.0.2)\n",
            "Requirement already satisfied: attrs>=22.2.0 in /usr/local/lib/python3.10/dist-packages (from jsonschema>=3.0->altair<6,>=4.0->streamlit) (24.2.0)\n",
            "Requirement already satisfied: jsonschema-specifications>=2023.03.6 in /usr/local/lib/python3.10/dist-packages (from jsonschema>=3.0->altair<6,>=4.0->streamlit) (2024.10.1)\n",
            "Requirement already satisfied: referencing>=0.28.4 in /usr/local/lib/python3.10/dist-packages (from jsonschema>=3.0->altair<6,>=4.0->streamlit) (0.35.1)\n",
            "Requirement already satisfied: rpds-py>=0.7.1 in /usr/local/lib/python3.10/dist-packages (from jsonschema>=3.0->altair<6,>=4.0->streamlit) (0.20.0)\n",
            "Requirement already satisfied: mdurl~=0.1 in /usr/local/lib/python3.10/dist-packages (from markdown-it-py>=2.2.0->rich<14,>=10.14.0->streamlit) (0.1.2)\n",
            "Requirement already satisfied: six>=1.5 in /usr/local/lib/python3.10/dist-packages (from python-dateutil>=2.8.2->pandas<3,>=1.4.0->streamlit) (1.16.0)\n",
            "Downloading streamlit-1.39.0-py2.py3-none-any.whl (8.7 MB)\n",
            "\u001b[2K   \u001b[90m━━━━━━━━━━━━━━━━━━━━━━━━━━━━━━━━━━━━━━━━\u001b[0m \u001b[32m8.7/8.7 MB\u001b[0m \u001b[31m44.0 MB/s\u001b[0m eta \u001b[36m0:00:00\u001b[0m\n",
            "\u001b[?25hDownloading pydeck-0.9.1-py2.py3-none-any.whl (6.9 MB)\n",
            "\u001b[2K   \u001b[90m━━━━━━━━━━━━━━━━━━━━━━━━━━━━━━━━━━━━━━━━\u001b[0m \u001b[32m6.9/6.9 MB\u001b[0m \u001b[31m72.9 MB/s\u001b[0m eta \u001b[36m0:00:00\u001b[0m\n",
            "\u001b[?25hDownloading watchdog-5.0.3-py3-none-manylinux2014_x86_64.whl (79 kB)\n",
            "\u001b[2K   \u001b[90m━━━━━━━━━━━━━━━━━━━━━━━━━━━━━━━━━━━━━━━━\u001b[0m \u001b[32m79.3/79.3 kB\u001b[0m \u001b[31m7.2 MB/s\u001b[0m eta \u001b[36m0:00:00\u001b[0m\n",
            "\u001b[?25hInstalling collected packages: watchdog, pydeck, streamlit\n",
            "Successfully installed pydeck-0.9.1 streamlit-1.39.0 watchdog-5.0.3\n"
          ]
        }
      ]
    },
    {
      "cell_type": "code",
      "source": [
        "import streamlit as st\n",
        "import pandas as pd\n",
        "import matplotlib.pyplot as plt\n",
        "\n",
        "data = {'Fruits':['Apple','Banana','Grapes','Kashmir Apple'],\n",
        "        'Quantity':[50,60,30,10]}\n",
        "\n",
        "df = pd.DataFrame(data)\n",
        "\n",
        "#Create bar chart\n",
        "\n",
        "fig, ax = plt.subplots()\n",
        "ax.bar(df['Fruits'],df['Quantity'],color=['red','yellow','Green','Pink'])\n",
        "ax.set_title('Fruits Quantites')\n",
        "ax.set_xlabel('Fruits')\n",
        "ax.set_ylabel('Quantity')\n",
        "\n",
        "#Dsiplay\n",
        "st.pyplot(fig)"
      ],
      "metadata": {
        "colab": {
          "base_uri": "https://localhost:8080/",
          "height": 655
        },
        "id": "bf4ZqaqWfaBl",
        "outputId": "715e69bf-7d9a-4d40-8bcf-6a758c1f340e"
      },
      "execution_count": 15,
      "outputs": [
        {
          "output_type": "stream",
          "name": "stderr",
          "text": [
            "2024-10-25 16:31:17.150 WARNING streamlit.runtime.scriptrunner_utils.script_run_context: Thread 'MainThread': missing ScriptRunContext! This warning can be ignored when running in bare mode.\n",
            "2024-10-25 16:31:17.448 WARNING streamlit.runtime.scriptrunner_utils.script_run_context: Thread 'MainThread': missing ScriptRunContext! This warning can be ignored when running in bare mode.\n",
            "2024-10-25 16:31:17.543 \n",
            "  \u001b[33m\u001b[1mWarning:\u001b[0m to view this Streamlit app on a browser, run it with the following\n",
            "  command:\n",
            "\n",
            "    streamlit run /usr/local/lib/python3.10/dist-packages/colab_kernel_launcher.py [ARGUMENTS]\n",
            "2024-10-25 16:31:17.545 Thread 'MainThread': missing ScriptRunContext! This warning can be ignored when running in bare mode.\n"
          ]
        },
        {
          "output_type": "execute_result",
          "data": {
            "text/plain": [
              "DeltaGenerator()"
            ]
          },
          "metadata": {},
          "execution_count": 15
        },
        {
          "output_type": "display_data",
          "data": {
            "text/plain": [
              "<Figure size 640x480 with 1 Axes>"
            ],
            "image/png": "[encoded data removed]"
          },
          "metadata": {}
        }
      ]
    },
    {
      "cell_type": "code",
      "source": [
        "import streamlit as st\n",
        "import pandas as pd\n",
        "import matplotlib.pyplot as plt\n",
        "\n",
        "# Data for the pie chart\n",
        "data = {'Fruits': ['Apple', 'Banana', 'Grapes', 'Kashmir Apple'],\n",
        "        'Quantity': [50, 60, 30, 10]}\n",
        "df = pd.DataFrame(data)\n",
        "\n",
        "# Create pie chart\n",
        "fig, ax = plt.subplots()\n",
        "ax.pie(df['Quantity'], labels=df['Fruits'], autopct='%1.1f%%', colors=['red', 'yellow', 'green', 'pink'])\n",
        "ax.set_title('Fruit Quantities')\n",
        "\n",
        "# Display\n",
        "st.pyplot(fig)\n"
      ],
      "metadata": {
        "colab": {
          "base_uri": "https://localhost:8080/"
        },
        "id": "1vy0lKm2hO1s",
        "outputId": "d8a959b3-af4e-4ffe-943c-1a2f11b2c191"
      },
      "execution_count": 17,
      "outputs": [
        {
          "output_type": "stream",
          "name": "stderr",
          "text": [
            "2024-10-25 16:34:18.022 Thread 'MainThread': missing ScriptRunContext! This warning can be ignored when running in bare mode.\n",
            "2024-10-25 16:34:18.172 Thread 'MainThread': missing ScriptRunContext! This warning can be ignored when running in bare mode.\n",
            "2024-10-25 16:34:18.174 Thread 'MainThread': missing ScriptRunContext! This warning can be ignored when running in bare mode.\n"
          ]
        },
        {
          "output_type": "execute_result",
          "data": {
            "text/plain": [
              "DeltaGenerator()"
            ]
          },
          "metadata": {},
          "execution_count": 17
        }
      ]
    },
    {
      "cell_type": "code",
      "source": [],
      "metadata": {
        "id": "V9QPA0w9hpNR"
      },
      "execution_count": null,
      "outputs": []
    }
  ]
}