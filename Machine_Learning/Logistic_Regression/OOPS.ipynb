{
 "cells": [
  {
   "cell_type": "code",
   "execution_count": 2,
   "id": "7c12dadb-df5d-46e9-aff6-544bc573f1d5",
   "metadata": {},
   "outputs": [],
   "source": [
    "item1 = 'Phone'\n",
    "item1_price = 100\n",
    "item1_quantity = 5\n",
    "item1_price_total = item1_price + item1_quantity"
   ]
  },
  {
   "cell_type": "code",
   "execution_count": 5,
   "id": "b5146ea4-3199-44fe-ad77-e028dbcf1a2e",
   "metadata": {},
   "outputs": [
    {
     "name": "stdout",
     "output_type": "stream",
     "text": [
      "<class 'str'>\n",
      "<class 'int'>\n",
      "<class 'int'>\n",
      "<class 'int'>\n"
     ]
    }
   ],
   "source": [
    "print(type(item1))\n",
    "print(type(item1_price))\n",
    "print(type(item1_quantity))\n",
    "print(type(item1_price_total))"
   ]
  },
  {
   "cell_type": "code",
   "execution_count": 6,
   "id": "43442d13",
   "metadata": {},
   "outputs": [
    {
     "name": "stdout",
     "output_type": "stream",
     "text": [
      "<class '__main__.Item'>\n",
      "<class 'str'>\n",
      "<class 'int'>\n",
      "<bound method Item.calcuate of <__main__.Item object at 0x000002B8776CA240>>\n"
     ]
    }
   ],
   "source": [
    "class Item:\n",
    "    def calcuate(self,x,y):\n",
    "        return x*y\n",
    "\n",
    " #Creating an instance\n",
    "inst1 = Item()\n",
    "#Attributes of the instance\n",
    "inst1.name = \"Laptop\"\n",
    "inst1.price = 120\n",
    "inst1.quantity = 2\n",
    "\n",
    "print(type(inst1))\n",
    "print(type(inst1.name))\n",
    "print(type(inst1.price))\n",
    "\n",
    " #Creating an instance\n",
    "inst2 = Item()\n",
    "#Attributes of the instance\n",
    "inst2.name = \"Lenovo\"\n",
    "inst2.price = 80\n",
    "inst2.quantity = 4\n",
    "\n",
    "print(inst2.calcuate)"
   ]
  },
  {
   "cell_type": "code",
   "execution_count": 8,
   "id": "40eae9a6-9fc3-4c45-b965-e828c1a286c6",
   "metadata": {},
   "outputs": [
    {
     "name": "stdout",
     "output_type": "stream",
     "text": [
      "HP\n",
      "10000\n",
      "2\n"
     ]
    }
   ],
   "source": [
    "class Item:\n",
    "    def __init__(self,name,price,quantity):\n",
    "        self.name=name\n",
    "        self.price=price\n",
    "        self.quantity=quantity\n",
    "\n",
    "    def calcuate(self,x,y):\n",
    "        return x*y\n",
    "\n",
    " #Creating an instance\n",
    "item1 = Item(\"HP\",10000,2)\n",
    "\n",
    " #Creating an instance\n",
    "item2 = Item(\"Lenovo\",80000,3)\n",
    "\n",
    "print(item1.name)\n",
    "print(item1.price)\n",
    "print(item1.quantity)\n"
   ]
  },
  {
   "cell_type": "code",
   "execution_count": 13,
   "id": "2c580d00",
   "metadata": {},
   "outputs": [
    {
     "name": "stdout",
     "output_type": "stream",
     "text": [
      "HP\n",
      "10000\n",
      "2\n",
      "Calculated: 20000\n",
      "Calculated: 240000\n"
     ]
    }
   ],
   "source": [
    "class Item:\n",
    "    def __init__(self,name,price,quantity):\n",
    "        #Validation\n",
    "        assert price >= 0,f\"AssertionError: Price is < 0\"\n",
    "        assert quantity >= 0,f\"AssertionError: Quantity < 0\"\n",
    "        \n",
    "        #Assign to self object\n",
    "        self.name=name\n",
    "        self.price=price\n",
    "        self.quantity=quantity\n",
    "\n",
    "    def calcuate(self,x,y):\n",
    "        return self.price * self.quantity\n",
    "\n",
    " #Creating an instance\n",
    "item1 = Item(\"HP\",10000,2)\n",
    "\n",
    " #Creating an instance\n",
    "item2 = Item(\"Lenovo\",80000,3)\n",
    "\n",
    "print(item1.name)\n",
    "print(item1.price)\n",
    "print(item1.quantity)\n",
    "\n",
    "print(f\"Calculated: {item1.calcuate(1000,2)}\")\n",
    "print(f\"Calculated: {item2.calcuate(80000,3)}\")\n"
   ]
  },
  {
   "cell_type": "code",
   "execution_count": 15,
   "id": "93c915f0",
   "metadata": {},
   "outputs": [
    {
     "ename": "AssertionError",
     "evalue": "AssertionError: Quantity -2 < 0",
     "output_type": "error",
     "traceback": [
      "\u001b[1;31m---------------------------------------------------------------------------\u001b[0m",
      "\u001b[1;31mAssertionError\u001b[0m                            Traceback (most recent call last)",
      "Cell \u001b[1;32mIn[15], line 16\u001b[0m\n\u001b[0;32m     13\u001b[0m         \u001b[38;5;28;01mreturn\u001b[39;00m \u001b[38;5;28mself\u001b[39m\u001b[38;5;241m.\u001b[39mprice \u001b[38;5;241m*\u001b[39m \u001b[38;5;28mself\u001b[39m\u001b[38;5;241m.\u001b[39mquantity\n\u001b[0;32m     15\u001b[0m  \u001b[38;5;66;03m#Creating an instance\u001b[39;00m\n\u001b[1;32m---> 16\u001b[0m item1 \u001b[38;5;241m=\u001b[39m \u001b[43mItem\u001b[49m\u001b[43m(\u001b[49m\u001b[38;5;124;43m\"\u001b[39;49m\u001b[38;5;124;43mHP\u001b[39;49m\u001b[38;5;124;43m\"\u001b[39;49m\u001b[43m,\u001b[49m\u001b[38;5;241;43m10000\u001b[39;49m\u001b[43m,\u001b[49m\u001b[38;5;241;43m-\u001b[39;49m\u001b[38;5;241;43m2\u001b[39;49m\u001b[43m)\u001b[49m\n\u001b[0;32m     18\u001b[0m  \u001b[38;5;66;03m#Creating an instance\u001b[39;00m\n\u001b[0;32m     19\u001b[0m item2 \u001b[38;5;241m=\u001b[39m Item(\u001b[38;5;124m\"\u001b[39m\u001b[38;5;124mLenovo\u001b[39m\u001b[38;5;124m\"\u001b[39m,\u001b[38;5;241m80000\u001b[39m,\u001b[38;5;241m-\u001b[39m\u001b[38;5;241m3\u001b[39m)\n",
      "Cell \u001b[1;32mIn[15], line 5\u001b[0m, in \u001b[0;36mItem.__init__\u001b[1;34m(self, name, price, quantity)\u001b[0m\n\u001b[0;32m      2\u001b[0m \u001b[38;5;28;01mdef\u001b[39;00m \u001b[38;5;21m__init__\u001b[39m(\u001b[38;5;28mself\u001b[39m,name,price,quantity):\n\u001b[0;32m      3\u001b[0m     \u001b[38;5;66;03m#Validation\u001b[39;00m\n\u001b[0;32m      4\u001b[0m     \u001b[38;5;28;01massert\u001b[39;00m price \u001b[38;5;241m>\u001b[39m\u001b[38;5;241m=\u001b[39m \u001b[38;5;241m0\u001b[39m,\u001b[38;5;124mf\u001b[39m\u001b[38;5;124m\"\u001b[39m\u001b[38;5;124mAssertionError: Price \u001b[39m\u001b[38;5;132;01m{\u001b[39;00mprice\u001b[38;5;132;01m}\u001b[39;00m\u001b[38;5;124m is < 0\u001b[39m\u001b[38;5;124m\"\u001b[39m\n\u001b[1;32m----> 5\u001b[0m     \u001b[38;5;28;01massert\u001b[39;00m quantity \u001b[38;5;241m>\u001b[39m\u001b[38;5;241m=\u001b[39m \u001b[38;5;241m0\u001b[39m,\u001b[38;5;124mf\u001b[39m\u001b[38;5;124m\"\u001b[39m\u001b[38;5;124mAssertionError: Quantity \u001b[39m\u001b[38;5;132;01m{\u001b[39;00mquantity\u001b[38;5;132;01m}\u001b[39;00m\u001b[38;5;124m < 0\u001b[39m\u001b[38;5;124m\"\u001b[39m\n\u001b[0;32m      7\u001b[0m     \u001b[38;5;66;03m#Assign to self object\u001b[39;00m\n\u001b[0;32m      8\u001b[0m     \u001b[38;5;28mself\u001b[39m\u001b[38;5;241m.\u001b[39mname\u001b[38;5;241m=\u001b[39mname\n",
      "\u001b[1;31mAssertionError\u001b[0m: AssertionError: Quantity -2 < 0"
     ]
    }
   ],
   "source": [
    "class Item:\n",
    "    def __init__(self,name,price,quantity):\n",
    "        #Validation\n",
    "        assert price >= 0,f\"AssertionError: Price {price} is < 0\"\n",
    "        assert quantity >= 0,f\"AssertionError: Quantity {quantity} < 0\"\n",
    "        \n",
    "        #Assign to self object\n",
    "        self.name=name\n",
    "        self.price=price\n",
    "        self.quantity=quantity\n",
    "\n",
    "    def calcuate(self,x,y):\n",
    "        return self.price * self.quantity\n",
    "\n",
    " #Creating an instance\n",
    "item1 = Item(\"HP\",10000,-2)\n",
    "\n",
    " #Creating an instance\n",
    "item2 = Item(\"Lenovo\",80000,-3)\n",
    "\n",
    "print(item1.name)\n",
    "print(item1.price)\n",
    "print(item1.quantity)\n",
    "\n",
    "print(f\"Calculated: {item1.calcuate(1000,-2)}\")\n",
    "print(f\"Calculated: {item2.calcuate(80000,-3)}\")\n"
   ]
  },
  {
   "cell_type": "code",
   "execution_count": 17,
   "id": "1b680124",
   "metadata": {},
   "outputs": [
    {
     "name": "stdout",
     "output_type": "stream",
     "text": [
      "{'__module__': '__main__', '__init__': <function Item.__init__ at 0x000002B877DE7E20>, 'calcuate': <function Item.calcuate at 0x000002B877DE6160>, '__dict__': <attribute '__dict__' of 'Item' objects>, '__weakref__': <attribute '__weakref__' of 'Item' objects>, '__doc__': None}\n",
      "{'name': 'HP', 'price': 10000, 'quantity': 2}\n"
     ]
    }
   ],
   "source": [
    "class Item:\n",
    "    def __init__(self,name,price,quantity):\n",
    "        #Validation\n",
    "        assert price >= 0,f\"AssertionError: Price {price} is < 0\"\n",
    "        assert quantity >= 0,f\"AssertionError: Quantity {quantity} < 0\"\n",
    "        \n",
    "        #Assign to self object\n",
    "        self.name=name\n",
    "        self.price=price\n",
    "        self.quantity=quantity\n",
    "\n",
    "    def calcuate(self,x,y):\n",
    "        return self.price * self.quantity\n",
    "\n",
    " #Creating an instance\n",
    "item1 = Item(\"HP\",10000,2)\n",
    "\n",
    " #Creating an instance\n",
    "item2 = Item(\"Lenovo\",80000,3)\n",
    " \n",
    "print(Item.__dict__) #Access all the attributes for the class level\n",
    "print(item1.__dict__)  #Access all the attributes for the instance level"
   ]
  },
  {
   "cell_type": "code",
   "execution_count": 26,
   "id": "64498a73",
   "metadata": {},
   "outputs": [
    {
     "name": "stdout",
     "output_type": "stream",
     "text": [
      "56000.0\n"
     ]
    }
   ],
   "source": [
    "class Item:\n",
    "    pay_rate = 4\n",
    "    def __init__(self,name: str,price: int,quantity:int):\n",
    "        #Validation\n",
    "        assert price >= 0,f\"AssertionError: Price {price} is < 0\"\n",
    "        assert quantity >= 0,f\"AssertionError: Quantity {quantity} < 0\"\n",
    "        \n",
    "\n",
    "        #Assign to self object\n",
    "        self.name=name\n",
    "        self.price=price\n",
    "        self.quantity=quantity\n",
    "\n",
    "    def apply_discount(self):\n",
    "        self.price =  self.price * self.pay_rate\n",
    "    \n",
    "    def calcuate(self,x,y):\n",
    "        return self.price * self.quantity\n",
    "\n",
    " #Creating an instance\n",
    "item1 = Item(\"HP\",10000,3)\n",
    "item2 = Item(\"Lenovo\",80000,3)\n",
    "item2.pay_rate = 0.7\n",
    "\n",
    "# print(item1.apply_discount())\n",
    "item2.apply_discount()\n",
    "print(item2.price)\n",
    "# print(item1.price)"
   ]
  },
  {
   "cell_type": "code",
   "execution_count": 28,
   "id": "a79c40e2",
   "metadata": {},
   "outputs": [
    {
     "name": "stdout",
     "output_type": "stream",
     "text": [
      "[<__main__.Item object at 0x000002B8778E8B00>, <__main__.Item object at 0x000002B8778E9880>, <__main__.Item object at 0x000002B8778EA450>, <__main__.Item object at 0x000002B8778EA690>, <__main__.Item object at 0x000002B8778EA720>]\n",
      "Phone\n",
      "Laptop\n",
      "Cable\n",
      "Mouse\n",
      "Keyboard\n"
     ]
    }
   ],
   "source": [
    "class Item:\n",
    "    pay_rate = 4\n",
    "    all = []\n",
    "    def __init__(self,name: str,price: int,quantity:int):\n",
    "        #Validation\n",
    "        assert price >= 0,f\"AssertionError: Price {price} is < 0\"\n",
    "        assert quantity >= 0,f\"AssertionError: Quantity {quantity} < 0\"\n",
    "        \n",
    "        #Actions to execute\n",
    "        Item.all.append(self)\n",
    "\n",
    "        #Assign to self object\n",
    "        self.name=name\n",
    "        self.price=price\n",
    "        self.quantity=quantity\n",
    "\n",
    "    def apply_discount(self):\n",
    "        self.price =  self.price * self.pay_rate\n",
    "    \n",
    "    def calcuate(self,x,y):\n",
    "        return self.price * self.quantity\n",
    "\n",
    " #Creating an instance\n",
    "item1 = Item(\"Phone\", 100, 1)\n",
    "item2 = Item(\"Laptop\", 1000, 3)\n",
    "item3 = Item(\"Cable\", 10, 5)\n",
    "item4 = Item(\"Mouse\", 50, 5)\n",
    "item5 = Item(\"Keyboard\", 75, 5)\n",
    "\n",
    "print(Item.all)\n",
    "\n",
    "for instance in Item.all:\n",
    "    print(instance.name)"
   ]
  },
  {
   "cell_type": "code",
   "execution_count": 30,
   "id": "b551fd23",
   "metadata": {},
   "outputs": [
    {
     "name": "stdout",
     "output_type": "stream",
     "text": [
      "[Item('Phone,100,1'), Item('Laptop,1000,3'), Item('Cable,10,5'), Item('Mouse,50,5'), Item('Keyboard,75,5')]\n"
     ]
    }
   ],
   "source": [
    "class Item:\n",
    "    pay_rate = 4\n",
    "    all = []\n",
    "    def __init__(self,name: str,price: int,quantity:int):\n",
    "        #Validation\n",
    "        assert price >= 0,f\"AssertionError: Price {price} is < 0\"\n",
    "        assert quantity >= 0,f\"AssertionError: Quantity {quantity} < 0\"\n",
    "        \n",
    "        #Actions to execute\n",
    "        Item.all.append(self)\n",
    "\n",
    "        #Assign to self object\n",
    "        self.name=name\n",
    "        self.price=price\n",
    "        self.quantity=quantity\n",
    "\n",
    "    def apply_discount(self):\n",
    "        self.price =  self.price * self.pay_rate\n",
    "    \n",
    "    def calcuate(self,x,y):\n",
    "        return self.price * self.quantity\n",
    "    \n",
    "    def __repr__(self):\n",
    "        return f\"Item('{self.name},{self.price},{self.quantity}')\"\n",
    "\n",
    " #Creating an instance\n",
    "item1 = Item(\"Phone\", 100, 1)\n",
    "item2 = Item(\"Laptop\", 1000, 3)\n",
    "item3 = Item(\"Cable\", 10, 5)\n",
    "item4 = Item(\"Mouse\", 50, 5)\n",
    "item5 = Item(\"Keyboard\", 75, 5)\n",
    "\n",
    "print(Item.all)\n",
    "\n",
    "# for instance in Item.all:\n",
    "#     print(instance.name)"
   ]
  },
  {
   "cell_type": "code",
   "execution_count": 42,
   "id": "438ef216",
   "metadata": {},
   "outputs": [
    {
     "name": "stdout",
     "output_type": "stream",
     "text": [
      "False\n"
     ]
    }
   ],
   "source": [
    "import csv\n",
    "\n",
    "class Item:\n",
    "    pay_rate = 4\n",
    "    all = []\n",
    "    def __init__(self,name: str,price: int,quantity:int):\n",
    "        #Validation\n",
    "        assert price >= 0,f\"AssertionError: Price {price} is < 0\"\n",
    "        assert quantity >= 0,f\"AssertionError: Quantity {quantity} < 0\"\n",
    "        \n",
    "        #Actions to execute\n",
    "        Item.all.append(self)\n",
    "\n",
    "        #Assign to self object\n",
    "        self.name=name\n",
    "        self.price=price\n",
    "        self.quantity=quantity\n",
    "\n",
    "    def apply_discount(self):\n",
    "        self.price =  self.price * self.pay_rate\n",
    "\n",
    "    @classmethod\n",
    "    def instance_from_csv(cls):\n",
    "        with open('items.csv','r') as f:\n",
    "            reader = csv.DictReader(f)\n",
    "            items = list(reader)\n",
    "        \n",
    "        for item in items:\n",
    "           try:\n",
    "               name = item.get('Item').strip()\n",
    "               price = int(item.get('Price').strip())\n",
    "               quantity = int(item.get('Quantity').strip())\n",
    "\n",
    "               cls(name=name,price=price,quantity=quantity)\n",
    "\n",
    "           except ValueError as ve:\n",
    "               print(f\"Error {ve}\")\n",
    "\n",
    "\n",
    "\n",
    "    def calcuate(self,x,y):\n",
    "        return self.price * self.quantity\n",
    "    \n",
    "    @staticmethod\n",
    "    def is_integer(num):\n",
    "        #We will count out the floats that are poin zero\n",
    "        #For i.e. 5.0,10.0\n",
    "\n",
    "        if isinstance(num,float):\n",
    "            return num.is_integer()\n",
    "        elif isinstance(num,int):\n",
    "            return True\n",
    "        else:\n",
    "            return False\n",
    "        \n",
    "    def __repr__(self):\n",
    "        return f\"Item('{self.name},{self.price},{self.quantity}')\"\n",
    "\n",
    "print(Item.is_integer(7.5))"
   ]
  },
  {
   "cell_type": "code",
   "execution_count": null,
   "id": "d22d0b4c",
   "metadata": {},
   "outputs": [],
   "source": []
  }
 ],
 "metadata": {
  "kernelspec": {
   "display_name": "Python 3",
   "language": "python",
   "name": "python3"
  },
  "language_info": {
   "codemirror_mode": {
    "name": "ipython",
    "version": 3
   },
   "file_extension": ".py",
   "mimetype": "text/x-python",
   "name": "python",
   "nbconvert_exporter": "python",
   "pygments_lexer": "ipython3",
   "version": "3.12.2"
  }
 },
 "nbformat": 4,
 "nbformat_minor": 5
}
