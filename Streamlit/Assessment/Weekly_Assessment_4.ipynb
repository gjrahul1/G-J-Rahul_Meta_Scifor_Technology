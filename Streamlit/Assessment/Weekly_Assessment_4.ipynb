{
  "nbformat": 4,
  "nbformat_minor": 0,
  "metadata": {
    "colab": {
      "provenance": []
    },
    "kernelspec": {
      "name": "python3",
      "display_name": "Python 3"
    },
    "language_info": {
      "name": "python"
    }
  },
  "cells": [
    {
      "cell_type": "markdown",
      "source": [
        "1.Explain the difference between lists and tuples in Python. Why might you choose one over the other?\n",
        "\n",
        "* Lists are mutable and duplicates are allowed.\n",
        "* Lists are mutable using indices.\n",
        "\n",
        "* Tuples are im-mutable and duplicates are allowed.\n",
        "\n",
        "* I would choose lists, if the data we are handling needs to be changed/mutable using indices, if not I would choose over the tuple.\n"
      ],
      "metadata": {
        "id": "VIe8uknOsaxP"
      }
    },
    {
      "cell_type": "markdown",
      "source": [
        "2.Write a function that takes a list of integers and returns a new list with only the even numbers.\n"
      ],
      "metadata": {
        "id": "8hTXCZMtuZXb"
      }
    },
    {
      "cell_type": "code",
      "source": [
        "#Empty List\n",
        "even_list = []\n",
        "\n",
        "def evendef(rec:list):\n",
        "  for element in rec:\n",
        "    if element%2 == 0:\n",
        "      even_list.append(element)\n",
        "  return even_list\n",
        "\n",
        "#List of elements\n",
        "lst = [12,54,22,12,11,1,2,3,5,100,101,789]\n",
        "print(evendef(lst))"
      ],
      "metadata": {
        "colab": {
          "base_uri": "https://localhost:8080/"
        },
        "id": "7uWs44FDvRah",
        "outputId": "fc49a637-b2c9-4825-ea3b-73faf52351af"
      },
      "execution_count": 3,
      "outputs": [
        {
          "output_type": "stream",
          "name": "stdout",
          "text": [
            "[12, 54, 22, 12, 2, 100]\n"
          ]
        }
      ]
    },
    {
      "cell_type": "markdown",
      "source": [
        "3. Describe how Python’s garbage collection works. What are the main methods it uses to manage memory?\n",
        "\n",
        "Python's garbage collection works in ways to allocate and deallocate the memory.\n",
        "\n",
        "Main Methods to manage memory:\n",
        "* Reference counting\n",
        "* Garbage Collection\n",
        "\n",
        "<b>Reference Counting</b>\n",
        "\n",
        "* Reference counting is the foundational method Python uses to manage memory. At its core, reference counting involves keeping track of the number of references (or pointers) to an object in memory. Each time a new reference to an object is created, Python increases that object’s reference count. Conversely, when a reference is removed or goes out of scope, Python decreases the reference count.\n",
        "\n",
        "<b>Garbage Collection</b>\n",
        "* In case we have created a class and an object and we decided to remove it or un-use it. The object reference would be zero, but not the memory allocated.\n",
        "* Eg: Memory allocated for the instance would still be allocated and not de-allocated.\n",
        "*This is reference problem, this can be resolved using reference counting.\n"
      ],
      "metadata": {
        "id": "UFfSxULevwsn"
      }
    },
    {
      "cell_type": "markdown",
      "source": [
        "4.Given a dictionary where keys are student names and values are lists of their scores, write a function that returns the average score for each student.\n"
      ],
      "metadata": {
        "id": "T0voka4Vx7dX"
      }
    },
    {
      "cell_type": "code",
      "source": [
        "reserved_avgs = {}\n",
        "\n",
        "def average_score(mydict:dict):\n",
        "  for key,value in mydict.items():\n",
        "    reserved_avgs[key] = sum(value)/len(value)\n",
        "  return reserved_avgs\n",
        "\n",
        "mydict = {\n",
        "    'Kumar':[12,23,12,45],\n",
        "    'Angle':[32,32,124,33],\n",
        "    'Ameer':[12,23,2,3,2],\n",
        "}\n",
        "\n",
        "average_score(mydict)\n",
        "\n",
        "for values in reserved_avgs.items():\n",
        "  print(f\"{values[0]}: {values[1]}\")"
      ],
      "metadata": {
        "colab": {
          "base_uri": "https://localhost:8080/"
        },
        "id": "tskgScSZvVAG",
        "outputId": "882b9cf3-c8d7-439b-cc4f-46ae5f2b4435"
      },
      "execution_count": 6,
      "outputs": [
        {
          "output_type": "stream",
          "name": "stdout",
          "text": [
            "Kumar: 23.0\n",
            "Angle: 55.25\n",
            "Ameer: 8.4\n"
          ]
        }
      ]
    },
    {
      "cell_type": "markdown",
      "source": [
        "5.What are *args and **kwargs in Python functions, and how are they used?\n",
        "\n",
        "\n",
        "* In Python, *args and **kwargs are used to pass a variable number of arguments to a function. They provide flexibility in function definitions, allowing you to handle an arbitrary number of arguments.\n",
        "\n",
        "*args: Non-Keyword Arguments\n",
        "\n",
        "* The *args syntax allows you to pass a variable number of non-keyword arguments to a function. These arguments are stored in a tuple, which means you can iterate over them or access them using indexing.\n",
        "\n",
        "**kwargs: Keyword Arguments\n",
        "\n",
        "* The **kwargs syntax allows you to pass a variable number of keyword arguments to a function. These arguments are stored in a dictionary, which means you can iterate over the keys and values."
      ],
      "metadata": {
        "id": "MPJDQTmW03L3"
      }
    },
    {
      "cell_type": "markdown",
      "source": [
        "## Sreamlit Questions"
      ],
      "metadata": {
        "id": "fEb6-v9P1tDZ"
      }
    },
    {
      "cell_type": "markdown",
      "source": [
        "1.Explain how Streamlit’s st.cache works and why it is useful. When should you avoid using it?\n",
        "\n"
      ],
      "metadata": {
        "id": "k2VMfVV01wfa"
      }
    },
    {
      "cell_type": "markdown",
      "source": [
        "### st.cache\n",
        "* st.cache is used to application cache the streamlit application to one's own system.\n",
        "* The downside of st.cache is complicated exceptions, slow execution and host of edge cases.\n",
        "\n"
      ],
      "metadata": {
        "id": "CsKRym551ySW"
      }
    },
    {
      "cell_type": "markdown",
      "source": [
        "2.Write a simple Streamlit app that takes a user’s name as input and displays a personalized greeting message.\n"
      ],
      "metadata": {
        "id": "8Id1lxUr2onx"
      }
    },
    {
      "cell_type": "code",
      "source": [
        "import streamlit as st\n",
        "\n",
        "text = st.text_input(\"What's your sweet name 😊\")\n",
        "st.markdown(text)\n",
        "\n",
        "#Alternative approach\n",
        "# st.write(text)"
      ],
      "metadata": {
        "id": "dafQi6lnzrPO"
      },
      "execution_count": null,
      "outputs": []
    },
    {
      "cell_type": "markdown",
      "source": [
        "\n",
        "3.Describe the st.sidebar component in Streamlit. How does it improve user experience in Streamlit applications?\n"
      ],
      "metadata": {
        "id": "uwH3I9BT3qkC"
      }
    },
    {
      "cell_type": "markdown",
      "source": [
        "**Maximize Main Content Area:**\n",
        "* st.sidebar allows the user's content to be wide-screen by not taking in % ratio of the user's screen content.\n",
        "\n",
        "**Minimizable Interface:**\n",
        "* st.sidebar can be minimized as well.\n",
        "\n",
        "**Versatile Components:**\n",
        "* st.sidebar can take in multiple components such as checkbox, radio, multi-selector, input_text, download button as well."
      ],
      "metadata": {
        "id": "v-kHMQsf33ip"
      }
    },
    {
      "cell_type": "markdown",
      "source": [
        "4.Create a Streamlit app that displays a line chart of random data. Allow the user to select the number of data points they want in the chart using a slider.\n"
      ],
      "metadata": {
        "id": "XNQ9lCBw5NeQ"
      }
    },
    {
      "cell_type": "code",
      "source": [
        "import streamlit as st\n",
        "import numpy as np\n",
        "import pandas as pd\n",
        "import matplotlib.pyplot as plt\n",
        "\n",
        "st.title(\"Random Data Line Chart\")\n",
        "\n",
        "# Slider to select number of data points\n",
        "num_points = st.slider(\"Select number of data points\", min_value=10, max_value=100, value=50)\n",
        "\n",
        "# Generate random data\n",
        "data = np.random.randn(num_points)\n",
        "\n",
        "# Create a DataFrame\n",
        "df = pd.DataFrame(data, columns=[\"Random Data\"])\n",
        "\n",
        "# Plot the line chart\n",
        "st.line_chart(df)\n",
        "\n",
        "st.write(f\"Displaying {num_points} data points\")\n"
      ],
      "metadata": {
        "id": "Z9Mh3-qg4EHn"
      },
      "execution_count": null,
      "outputs": []
    },
    {
      "cell_type": "markdown",
      "source": [
        "5.How does Streamlit handle real-time data updates with st.button or st.checkbox? Explain a scenario where this can be useful.\n",
        "\n",
        "* Streamlit handles real-time data updates by re-running the entire script whenever a user interacts with widgets like st.button or st.checkbox.\n",
        "\n",
        "* This means every time you click a button or toggle a checkbox, the app re-runs from the top, ensuring the interface reflects the most current state.\n",
        "\n",
        "**Real-Time Data Updates:**\n",
        "\n",
        "* st.button: When you click a button, Streamlit re-runs the script. You can use the button's state (True if clicked) to control your app's behavior.\n",
        "\n",
        "* st.checkbox: Similarly, toggling a checkbox re-runs the script, and the checkbox's state (checked or unchecked) is used to update the app."
      ],
      "metadata": {
        "id": "IK9pXRfK5kAO"
      }
    },
    {
      "cell_type": "markdown",
      "source": [
        "**Use-Case Scenario**"
      ],
      "metadata": {
        "id": "EYe7Xrb_5ynX"
      }
    },
    {
      "cell_type": "code",
      "source": [
        "import streamlit as st\n",
        "import yfinance as yf\n",
        "\n",
        "st.title(\"Real-Time Stock Market Dashboard\")\n",
        "\n",
        "# Stock selector\n",
        "selected_stock = st.sidebar.selectbox(\"Select a stock\", [\"AAPL\", \"MSFT\", \"GOOGL\"])\n",
        "\n",
        "# Fetch data\n",
        "data = yf.download(selected_stock, period=\"1d\", interval=\"1m\")\n",
        "\n",
        "# Display checkbox for real-time update\n",
        "if st.checkbox(\"Show real-time data\"):\n",
        "    st.line_chart(data['Close'])\n",
        "\n",
        "# Refresh button for manual update\n",
        "if st.button(\"Refresh Data\"):\n",
        "    data = yf.download(selected_stock, period=\"1d\", interval=\"1m\")\n",
        "    st.line_chart(data['Close'])\n"
      ],
      "metadata": {
        "id": "-fsdHFo852yc"
      },
      "execution_count": null,
      "outputs": []
    }
  ]
}